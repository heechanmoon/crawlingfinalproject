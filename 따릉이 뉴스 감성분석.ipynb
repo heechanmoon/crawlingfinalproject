{
 "cells": [
  {
   "cell_type": "code",
   "execution_count": 135,
   "metadata": {},
   "outputs": [
    {
     "name": "stdout",
     "output_type": "stream",
     "text": [
      "\n",
      "크롤링할 시작 페이지:  1 페이지\n",
      "\n",
      "크롤링할 종료 페이지:  55 페이지\n",
      "생성url:  ['https://search.naver.com/search.naver?where=news&sm=tab_pge&query=따릉이 만족도&start=1', 'https://search.naver.com/search.naver?where=news&sm=tab_pge&query=따릉이 만족도&start=11', 'https://search.naver.com/search.naver?where=news&sm=tab_pge&query=따릉이 만족도&start=21', 'https://search.naver.com/search.naver?where=news&sm=tab_pge&query=따릉이 만족도&start=31', 'https://search.naver.com/search.naver?where=news&sm=tab_pge&query=따릉이 만족도&start=41', 'https://search.naver.com/search.naver?where=news&sm=tab_pge&query=따릉이 만족도&start=51', 'https://search.naver.com/search.naver?where=news&sm=tab_pge&query=따릉이 만족도&start=61', 'https://search.naver.com/search.naver?where=news&sm=tab_pge&query=따릉이 만족도&start=71', 'https://search.naver.com/search.naver?where=news&sm=tab_pge&query=따릉이 만족도&start=81', 'https://search.naver.com/search.naver?where=news&sm=tab_pge&query=따릉이 만족도&start=91', 'https://search.naver.com/search.naver?where=news&sm=tab_pge&query=따릉이 만족도&start=101', 'https://search.naver.com/search.naver?where=news&sm=tab_pge&query=따릉이 만족도&start=111', 'https://search.naver.com/search.naver?where=news&sm=tab_pge&query=따릉이 만족도&start=121', 'https://search.naver.com/search.naver?where=news&sm=tab_pge&query=따릉이 만족도&start=131', 'https://search.naver.com/search.naver?where=news&sm=tab_pge&query=따릉이 만족도&start=141', 'https://search.naver.com/search.naver?where=news&sm=tab_pge&query=따릉이 만족도&start=151', 'https://search.naver.com/search.naver?where=news&sm=tab_pge&query=따릉이 만족도&start=161', 'https://search.naver.com/search.naver?where=news&sm=tab_pge&query=따릉이 만족도&start=171', 'https://search.naver.com/search.naver?where=news&sm=tab_pge&query=따릉이 만족도&start=181', 'https://search.naver.com/search.naver?where=news&sm=tab_pge&query=따릉이 만족도&start=191', 'https://search.naver.com/search.naver?where=news&sm=tab_pge&query=따릉이 만족도&start=201', 'https://search.naver.com/search.naver?where=news&sm=tab_pge&query=따릉이 만족도&start=211', 'https://search.naver.com/search.naver?where=news&sm=tab_pge&query=따릉이 만족도&start=221', 'https://search.naver.com/search.naver?where=news&sm=tab_pge&query=따릉이 만족도&start=231', 'https://search.naver.com/search.naver?where=news&sm=tab_pge&query=따릉이 만족도&start=241', 'https://search.naver.com/search.naver?where=news&sm=tab_pge&query=따릉이 만족도&start=251', 'https://search.naver.com/search.naver?where=news&sm=tab_pge&query=따릉이 만족도&start=261', 'https://search.naver.com/search.naver?where=news&sm=tab_pge&query=따릉이 만족도&start=271', 'https://search.naver.com/search.naver?where=news&sm=tab_pge&query=따릉이 만족도&start=281', 'https://search.naver.com/search.naver?where=news&sm=tab_pge&query=따릉이 만족도&start=291', 'https://search.naver.com/search.naver?where=news&sm=tab_pge&query=따릉이 만족도&start=301', 'https://search.naver.com/search.naver?where=news&sm=tab_pge&query=따릉이 만족도&start=311', 'https://search.naver.com/search.naver?where=news&sm=tab_pge&query=따릉이 만족도&start=321', 'https://search.naver.com/search.naver?where=news&sm=tab_pge&query=따릉이 만족도&start=331', 'https://search.naver.com/search.naver?where=news&sm=tab_pge&query=따릉이 만족도&start=341', 'https://search.naver.com/search.naver?where=news&sm=tab_pge&query=따릉이 만족도&start=351', 'https://search.naver.com/search.naver?where=news&sm=tab_pge&query=따릉이 만족도&start=361', 'https://search.naver.com/search.naver?where=news&sm=tab_pge&query=따릉이 만족도&start=371', 'https://search.naver.com/search.naver?where=news&sm=tab_pge&query=따릉이 만족도&start=381', 'https://search.naver.com/search.naver?where=news&sm=tab_pge&query=따릉이 만족도&start=391', 'https://search.naver.com/search.naver?where=news&sm=tab_pge&query=따릉이 만족도&start=401', 'https://search.naver.com/search.naver?where=news&sm=tab_pge&query=따릉이 만족도&start=411', 'https://search.naver.com/search.naver?where=news&sm=tab_pge&query=따릉이 만족도&start=421', 'https://search.naver.com/search.naver?where=news&sm=tab_pge&query=따릉이 만족도&start=431', 'https://search.naver.com/search.naver?where=news&sm=tab_pge&query=따릉이 만족도&start=441', 'https://search.naver.com/search.naver?where=news&sm=tab_pge&query=따릉이 만족도&start=451', 'https://search.naver.com/search.naver?where=news&sm=tab_pge&query=따릉이 만족도&start=461', 'https://search.naver.com/search.naver?where=news&sm=tab_pge&query=따릉이 만족도&start=471', 'https://search.naver.com/search.naver?where=news&sm=tab_pge&query=따릉이 만족도&start=481', 'https://search.naver.com/search.naver?where=news&sm=tab_pge&query=따릉이 만족도&start=491', 'https://search.naver.com/search.naver?where=news&sm=tab_pge&query=따릉이 만족도&start=501', 'https://search.naver.com/search.naver?where=news&sm=tab_pge&query=따릉이 만족도&start=511', 'https://search.naver.com/search.naver?where=news&sm=tab_pge&query=따릉이 만족도&start=521', 'https://search.naver.com/search.naver?where=news&sm=tab_pge&query=따릉이 만족도&start=531', 'https://search.naver.com/search.naver?where=news&sm=tab_pge&query=따릉이 만족도&start=541']\n",
      "\n",
      "[뉴스 제목]\n"
     ]
    }
   ],
   "source": [
    "#크롤링시 필요한 라이브러리 불러오기\n",
    "\n",
    "from bs4 import BeautifulSoup\n",
    "import requests\n",
    "import ssl\n",
    "\n",
    "# 페이지 url 형식에 맞게 바꾸어 주는 함수 만들기\n",
    "  #입력된 수를 1, 11, 21, 31 ...만들어 주는 함수\n",
    "def makePgNum(num):\n",
    "    if num == 1:\n",
    "        return num\n",
    "    elif num == 0:\n",
    "        return num+1\n",
    "    else:\n",
    "        return num+9*(num-1)\n",
    "\n",
    "# 크롤링할 url 생성하는 함수 만들기(검색어, 크롤링 시작 페이지, 크롤링 종료 페이지)\n",
    "def makeUrl(search,start_pg,end_pg):\n",
    "    if start_pg == end_pg:\n",
    "        start_page = makePgNum(start_pg)\n",
    "        url = \"https://search.naver.com/search.naver?where=news&sm=tab_pge&query=\" + search + \"&start=\" + str(start_page)\n",
    "        print(\"생성url: \",url)\n",
    "        return url\n",
    "    else:\n",
    "        urls= []\n",
    "        for i in range(start_pg,end_pg+1):\n",
    "            page = makePgNum(i)\n",
    "            url = \"https://search.naver.com/search.naver?where=news&sm=tab_pge&query=\" + search + \"&start=\" + str(page)\n",
    "            urls.append(url)\n",
    "        print(\"생성url: \",urls)\n",
    "        return urls\n",
    "\n",
    "# html에서 원하는 속성 추출하는 함수 만들기 (기사, 추출하려는 속성값)\n",
    "def news_attrs_crawler(articles,attrs):\n",
    "    attrs_content=[]\n",
    "    str1 = \"따릉이\"\n",
    "    for i in articles:\n",
    "        if str1 in i.attrs[attrs]:\n",
    "            attrs_content.append(i.attrs[attrs])\n",
    "    return attrs_content\n",
    "\n",
    "#html생성해서 기사크롤링하는 함수 만들기(제목)\n",
    "def articles_crawler(url):\n",
    "    #html 불러오기\n",
    "    original_html = requests.get(i, headers={'User-Agent':'Mozilla/5.0'}, verify=False)\n",
    "    html = BeautifulSoup(original_html.text, \"html.parser\")\n",
    "    # 검색결과\n",
    "    articles = html.select(\"div.group_news > ul.list_news > li div.news_area > a\")\n",
    "    title = news_attrs_crawler(articles,'title')\n",
    "    return title\n",
    "\n",
    "#####뉴스크롤링 시작#####\n",
    "\n",
    "#검색어\n",
    "search = \"따릉이 만족도\"\n",
    "\n",
    "#검색 시작할 페이지 입력\n",
    "page = 1\n",
    "print(\"\\n크롤링할 시작 페이지: \",page,\"페이지\")   \n",
    "#검색 종료할 페이지 입력\n",
    "page2 = 55\n",
    "print(\"\\n크롤링할 종료 페이지: \",page2,\"페이지\")   \n",
    "\n",
    "# naver url 생성\n",
    "url = makeUrl(search,page,page2)\n",
    "\n",
    "#뉴스 크롤러 실행\n",
    "news_titles = []\n",
    "str1 = \"따릉이\"\n",
    "for i in url:\n",
    "    title = articles_crawler(url)\n",
    "    news_titles.append(title)\n",
    "\n",
    "print(\"\\n[뉴스 제목]\")\n",
    "\n",
    "###데이터 프레임으로 만들기###\n",
    "import pandas as pd\n",
    "\n",
    "#제목을 1차원 리스트로 꺼내는 함수 생성\n",
    "def makeList(newlist, content):\n",
    "    for i in content:\n",
    "        for j in i:\n",
    "            newlist.append(j)\n",
    "    return newlist\n",
    "    \n",
    "#제목, 링크, 내용 담을 리스트 생성\n",
    "news_titles_1 = []\n",
    "\n",
    "#1차원 리스트로 만들기(내용 제외)\n",
    "makeList(news_titles_1,news_titles)\n",
    "\n",
    "\n",
    "#데이터 프레임 만들기\n",
    "news_df = pd.DataFrame({'title':news_titles_1})\n",
    "news_df.to_csv('./따릉이 데이터/따릉이 만족도 검색결과.csv', encoding='utf8') \n"
   ]
  },
  {
   "cell_type": "code",
   "execution_count": 3,
   "metadata": {},
   "outputs": [
    {
     "data": {
      "text/plain": [
       "'1.5.2'"
      ]
     },
     "execution_count": 3,
     "metadata": {},
     "output_type": "execute_result"
    }
   ],
   "source": [
    "import pandas as pd\n",
    "pd.__version__"
   ]
  },
  {
   "cell_type": "code",
   "execution_count": 4,
   "metadata": {},
   "outputs": [],
   "source": [
    "import os\n",
    "os.environ[\"PYTHONIOENCODING\"] = \"utf-8\""
   ]
  },
  {
   "cell_type": "code",
   "execution_count": 5,
   "metadata": {},
   "outputs": [],
   "source": [
    "import warnings\n",
    "warnings.filterwarnings(action='ignore')"
   ]
  },
  {
   "cell_type": "code",
   "execution_count": 6,
   "metadata": {},
   "outputs": [
    {
     "data": {
      "text/html": [
       "<div>\n",
       "<style scoped>\n",
       "    .dataframe tbody tr th:only-of-type {\n",
       "        vertical-align: middle;\n",
       "    }\n",
       "\n",
       "    .dataframe tbody tr th {\n",
       "        vertical-align: top;\n",
       "    }\n",
       "\n",
       "    .dataframe thead th {\n",
       "        text-align: right;\n",
       "    }\n",
       "</style>\n",
       "<table border=\"1\" class=\"dataframe\">\n",
       "  <thead>\n",
       "    <tr style=\"text-align: right;\">\n",
       "      <th></th>\n",
       "      <th>id</th>\n",
       "      <th>document</th>\n",
       "      <th>label</th>\n",
       "    </tr>\n",
       "  </thead>\n",
       "  <tbody>\n",
       "    <tr>\n",
       "      <th>0</th>\n",
       "      <td>9976970</td>\n",
       "      <td>아 더빙.. 진짜 짜증나네요 목소리</td>\n",
       "      <td>0</td>\n",
       "    </tr>\n",
       "    <tr>\n",
       "      <th>1</th>\n",
       "      <td>3819312</td>\n",
       "      <td>흠...포스터보고 초딩영화줄....오버연기조차 가볍지 않구나</td>\n",
       "      <td>1</td>\n",
       "    </tr>\n",
       "    <tr>\n",
       "      <th>2</th>\n",
       "      <td>10265843</td>\n",
       "      <td>너무재밓었다그래서보는것을추천한다</td>\n",
       "      <td>0</td>\n",
       "    </tr>\n",
       "    <tr>\n",
       "      <th>3</th>\n",
       "      <td>9045019</td>\n",
       "      <td>교도소 이야기구먼 ..솔직히 재미는 없다..평점 조정</td>\n",
       "      <td>0</td>\n",
       "    </tr>\n",
       "    <tr>\n",
       "      <th>4</th>\n",
       "      <td>6483659</td>\n",
       "      <td>사이몬페그의 익살스런 연기가 돋보였던 영화!스파이더맨에서 늙어보이기만 했던 커스틴 ...</td>\n",
       "      <td>1</td>\n",
       "    </tr>\n",
       "  </tbody>\n",
       "</table>\n",
       "</div>"
      ],
      "text/plain": [
       "         id                                           document  label\n",
       "0   9976970                                아 더빙.. 진짜 짜증나네요 목소리      0\n",
       "1   3819312                  흠...포스터보고 초딩영화줄....오버연기조차 가볍지 않구나      1\n",
       "2  10265843                                  너무재밓었다그래서보는것을추천한다      0\n",
       "3   9045019                      교도소 이야기구먼 ..솔직히 재미는 없다..평점 조정      0\n",
       "4   6483659  사이몬페그의 익살스런 연기가 돋보였던 영화!스파이더맨에서 늙어보이기만 했던 커스틴 ...      1"
      ]
     },
     "execution_count": 6,
     "metadata": {},
     "output_type": "execute_result"
    }
   ],
   "source": [
    "nsmc_train_df = pd.read_csv('./따릉이 데이터/ratings_train.txt', encoding='utf8', sep='\\t', engine='python')\n",
    "nsmc_train_df.head()"
   ]
  },
  {
   "cell_type": "code",
   "execution_count": 7,
   "metadata": {
    "scrolled": true
   },
   "outputs": [
    {
     "name": "stdout",
     "output_type": "stream",
     "text": [
      "<class 'pandas.core.frame.DataFrame'>\n",
      "RangeIndex: 150000 entries, 0 to 149999\n",
      "Data columns (total 3 columns):\n",
      " #   Column    Non-Null Count   Dtype \n",
      "---  ------    --------------   ----- \n",
      " 0   id        150000 non-null  int64 \n",
      " 1   document  149995 non-null  object\n",
      " 2   label     150000 non-null  int64 \n",
      "dtypes: int64(2), object(1)\n",
      "memory usage: 3.4+ MB\n"
     ]
    }
   ],
   "source": [
    "nsmc_train_df.info()"
   ]
  },
  {
   "cell_type": "code",
   "execution_count": 8,
   "metadata": {},
   "outputs": [],
   "source": [
    "nsmc_train_df = nsmc_train_df[nsmc_train_df['document'].notnull()]"
   ]
  },
  {
   "cell_type": "code",
   "execution_count": 9,
   "metadata": {},
   "outputs": [
    {
     "name": "stdout",
     "output_type": "stream",
     "text": [
      "<class 'pandas.core.frame.DataFrame'>\n",
      "Int64Index: 149995 entries, 0 to 149999\n",
      "Data columns (total 3 columns):\n",
      " #   Column    Non-Null Count   Dtype \n",
      "---  ------    --------------   ----- \n",
      " 0   id        149995 non-null  int64 \n",
      " 1   document  149995 non-null  object\n",
      " 2   label     149995 non-null  int64 \n",
      "dtypes: int64(2), object(1)\n",
      "memory usage: 4.6+ MB\n"
     ]
    }
   ],
   "source": [
    "nsmc_train_df.info()"
   ]
  },
  {
   "cell_type": "code",
   "execution_count": 10,
   "metadata": {
    "scrolled": true
   },
   "outputs": [
    {
     "data": {
      "text/plain": [
       "0    75170\n",
       "1    74825\n",
       "Name: label, dtype: int64"
      ]
     },
     "execution_count": 10,
     "metadata": {},
     "output_type": "execute_result"
    }
   ],
   "source": [
    "nsmc_train_df['label'].value_counts()"
   ]
  },
  {
   "cell_type": "code",
   "execution_count": 11,
   "metadata": {},
   "outputs": [],
   "source": [
    "import re"
   ]
  },
  {
   "cell_type": "code",
   "execution_count": 12,
   "metadata": {
    "scrolled": true
   },
   "outputs": [
    {
     "data": {
      "text/html": [
       "<div>\n",
       "<style scoped>\n",
       "    .dataframe tbody tr th:only-of-type {\n",
       "        vertical-align: middle;\n",
       "    }\n",
       "\n",
       "    .dataframe tbody tr th {\n",
       "        vertical-align: top;\n",
       "    }\n",
       "\n",
       "    .dataframe thead th {\n",
       "        text-align: right;\n",
       "    }\n",
       "</style>\n",
       "<table border=\"1\" class=\"dataframe\">\n",
       "  <thead>\n",
       "    <tr style=\"text-align: right;\">\n",
       "      <th></th>\n",
       "      <th>id</th>\n",
       "      <th>document</th>\n",
       "      <th>label</th>\n",
       "    </tr>\n",
       "  </thead>\n",
       "  <tbody>\n",
       "    <tr>\n",
       "      <th>0</th>\n",
       "      <td>9976970</td>\n",
       "      <td>아 더빙  진짜 짜증나네요 목소리</td>\n",
       "      <td>0</td>\n",
       "    </tr>\n",
       "    <tr>\n",
       "      <th>1</th>\n",
       "      <td>3819312</td>\n",
       "      <td>흠 포스터보고 초딩영화줄 오버연기조차 가볍지 않구나</td>\n",
       "      <td>1</td>\n",
       "    </tr>\n",
       "    <tr>\n",
       "      <th>2</th>\n",
       "      <td>10265843</td>\n",
       "      <td>너무재밓었다그래서보는것을추천한다</td>\n",
       "      <td>0</td>\n",
       "    </tr>\n",
       "    <tr>\n",
       "      <th>3</th>\n",
       "      <td>9045019</td>\n",
       "      <td>교도소 이야기구먼  솔직히 재미는 없다 평점 조정</td>\n",
       "      <td>0</td>\n",
       "    </tr>\n",
       "    <tr>\n",
       "      <th>4</th>\n",
       "      <td>6483659</td>\n",
       "      <td>사이몬페그의 익살스런 연기가 돋보였던 영화 스파이더맨에서 늙어보이기만 했던 커스틴 ...</td>\n",
       "      <td>1</td>\n",
       "    </tr>\n",
       "  </tbody>\n",
       "</table>\n",
       "</div>"
      ],
      "text/plain": [
       "         id                                           document  label\n",
       "0   9976970                                 아 더빙  진짜 짜증나네요 목소리      0\n",
       "1   3819312                       흠 포스터보고 초딩영화줄 오버연기조차 가볍지 않구나      1\n",
       "2  10265843                                  너무재밓었다그래서보는것을추천한다      0\n",
       "3   9045019                        교도소 이야기구먼  솔직히 재미는 없다 평점 조정      0\n",
       "4   6483659  사이몬페그의 익살스런 연기가 돋보였던 영화 스파이더맨에서 늙어보이기만 했던 커스틴 ...      1"
      ]
     },
     "execution_count": 12,
     "metadata": {},
     "output_type": "execute_result"
    }
   ],
   "source": [
    "nsmc_train_df['document'] = nsmc_train_df['document'].apply(lambda x : re.sub(r'[^ ㄱ-ㅣ가-힣]+', \" \", x))\n",
    "nsmc_train_df.head()"
   ]
  },
  {
   "cell_type": "code",
   "execution_count": 13,
   "metadata": {},
   "outputs": [
    {
     "data": {
      "text/html": [
       "<div>\n",
       "<style scoped>\n",
       "    .dataframe tbody tr th:only-of-type {\n",
       "        vertical-align: middle;\n",
       "    }\n",
       "\n",
       "    .dataframe tbody tr th {\n",
       "        vertical-align: top;\n",
       "    }\n",
       "\n",
       "    .dataframe thead th {\n",
       "        text-align: right;\n",
       "    }\n",
       "</style>\n",
       "<table border=\"1\" class=\"dataframe\">\n",
       "  <thead>\n",
       "    <tr style=\"text-align: right;\">\n",
       "      <th></th>\n",
       "      <th>id</th>\n",
       "      <th>document</th>\n",
       "      <th>label</th>\n",
       "    </tr>\n",
       "  </thead>\n",
       "  <tbody>\n",
       "    <tr>\n",
       "      <th>0</th>\n",
       "      <td>6270596</td>\n",
       "      <td>굳 ㅋ</td>\n",
       "      <td>1</td>\n",
       "    </tr>\n",
       "    <tr>\n",
       "      <th>1</th>\n",
       "      <td>9274899</td>\n",
       "      <td>GDNTOPCLASSINTHECLUB</td>\n",
       "      <td>0</td>\n",
       "    </tr>\n",
       "    <tr>\n",
       "      <th>2</th>\n",
       "      <td>8544678</td>\n",
       "      <td>뭐야 이 평점들은.... 나쁘진 않지만 10점 짜리는 더더욱 아니잖아</td>\n",
       "      <td>0</td>\n",
       "    </tr>\n",
       "    <tr>\n",
       "      <th>3</th>\n",
       "      <td>6825595</td>\n",
       "      <td>지루하지는 않은데 완전 막장임... 돈주고 보기에는....</td>\n",
       "      <td>0</td>\n",
       "    </tr>\n",
       "    <tr>\n",
       "      <th>4</th>\n",
       "      <td>6723715</td>\n",
       "      <td>3D만 아니었어도 별 다섯 개 줬을텐데.. 왜 3D로 나와서 제 심기를 불편하게 하죠??</td>\n",
       "      <td>0</td>\n",
       "    </tr>\n",
       "  </tbody>\n",
       "</table>\n",
       "</div>"
      ],
      "text/plain": [
       "        id                                           document  label\n",
       "0  6270596                                                굳 ㅋ      1\n",
       "1  9274899                               GDNTOPCLASSINTHECLUB      0\n",
       "2  8544678             뭐야 이 평점들은.... 나쁘진 않지만 10점 짜리는 더더욱 아니잖아      0\n",
       "3  6825595                   지루하지는 않은데 완전 막장임... 돈주고 보기에는....      0\n",
       "4  6723715  3D만 아니었어도 별 다섯 개 줬을텐데.. 왜 3D로 나와서 제 심기를 불편하게 하죠??      0"
      ]
     },
     "execution_count": 13,
     "metadata": {},
     "output_type": "execute_result"
    }
   ],
   "source": [
    "nsmc_test_df = pd.read_csv('./따릉이 데이터/ratings_test.txt', encoding='utf8', sep='\\t', engine='python')\n",
    "nsmc_test_df.head()"
   ]
  },
  {
   "cell_type": "code",
   "execution_count": 14,
   "metadata": {},
   "outputs": [
    {
     "name": "stdout",
     "output_type": "stream",
     "text": [
      "<class 'pandas.core.frame.DataFrame'>\n",
      "RangeIndex: 50000 entries, 0 to 49999\n",
      "Data columns (total 3 columns):\n",
      " #   Column    Non-Null Count  Dtype \n",
      "---  ------    --------------  ----- \n",
      " 0   id        50000 non-null  int64 \n",
      " 1   document  49997 non-null  object\n",
      " 2   label     50000 non-null  int64 \n",
      "dtypes: int64(2), object(1)\n",
      "memory usage: 1.1+ MB\n"
     ]
    }
   ],
   "source": [
    "nsmc_test_df.info()"
   ]
  },
  {
   "cell_type": "code",
   "execution_count": 15,
   "metadata": {},
   "outputs": [],
   "source": [
    "nsmc_test_df = nsmc_test_df[nsmc_test_df['document'].notnull()]"
   ]
  },
  {
   "cell_type": "code",
   "execution_count": 16,
   "metadata": {},
   "outputs": [
    {
     "name": "stdout",
     "output_type": "stream",
     "text": [
      "1    25171\n",
      "0    24826\n",
      "Name: label, dtype: int64\n"
     ]
    }
   ],
   "source": [
    "print(nsmc_test_df['label'].value_counts())"
   ]
  },
  {
   "cell_type": "code",
   "execution_count": 17,
   "metadata": {},
   "outputs": [],
   "source": [
    "nsmc_test_df['document'] = nsmc_test_df['document'].apply(lambda x : re.sub(r'[^ ㄱ-ㅣ가-힣]+', \"\", x))"
   ]
  },
  {
   "cell_type": "code",
   "execution_count": 18,
   "metadata": {},
   "outputs": [
    {
     "name": "stdout",
     "output_type": "stream",
     "text": [
      "Defaulting to user installation because normal site-packages is not writeable\n",
      "Requirement already satisfied: konlpy in c:\\users\\82105\\appdata\\roaming\\python\\python39\\site-packages (0.6.0)\n",
      "Requirement already satisfied: numpy>=1.6 in c:\\users\\82105\\appdata\\roaming\\python\\python39\\site-packages (from konlpy) (1.23.5)\n",
      "Requirement already satisfied: JPype1>=0.7.0 in c:\\users\\82105\\appdata\\roaming\\python\\python39\\site-packages (from konlpy) (1.4.1)\n",
      "Requirement already satisfied: lxml>=4.1.0 in c:\\programdata\\anaconda3\\lib\\site-packages (from konlpy) (4.8.0)\n",
      "Requirement already satisfied: packaging in c:\\programdata\\anaconda3\\lib\\site-packages (from JPype1>=0.7.0->konlpy) (21.3)\n",
      "Requirement already satisfied: pyparsing!=3.0.5,>=2.0.2 in c:\\programdata\\anaconda3\\lib\\site-packages (from packaging->JPype1>=0.7.0->konlpy) (3.0.4)\n"
     ]
    }
   ],
   "source": [
    "!pip install konlpy"
   ]
  },
  {
   "cell_type": "code",
   "execution_count": 19,
   "metadata": {},
   "outputs": [],
   "source": [
    "from konlpy.tag import Okt\n",
    "\n",
    "okt = Okt()"
   ]
  },
  {
   "cell_type": "code",
   "execution_count": 20,
   "metadata": {},
   "outputs": [],
   "source": [
    "def okt_tokenizer(text):\n",
    "    tokens = okt.morphs(text)\n",
    "    return tokens"
   ]
  },
  {
   "cell_type": "code",
   "execution_count": 21,
   "metadata": {},
   "outputs": [],
   "source": [
    "from sklearn.feature_extraction.text import TfidfVectorizer\n",
    "\n",
    "tfidf = TfidfVectorizer(tokenizer = okt_tokenizer, ngram_range=(1,2), min_df=3, max_df=0.9)\n",
    "tfidf.fit(nsmc_train_df['document'])\n",
    "nsmc_train_tfidf = tfidf.transform(nsmc_train_df['document'])"
   ]
  },
  {
   "cell_type": "code",
   "execution_count": 22,
   "metadata": {},
   "outputs": [],
   "source": [
    "from sklearn.linear_model import LogisticRegression\n",
    "\n",
    "SA_lr = LogisticRegression(random_state = 0)"
   ]
  },
  {
   "cell_type": "code",
   "execution_count": 23,
   "metadata": {},
   "outputs": [
    {
     "data": {
      "text/plain": [
       "LogisticRegression(random_state=0)"
      ]
     },
     "execution_count": 23,
     "metadata": {},
     "output_type": "execute_result"
    }
   ],
   "source": [
    "SA_lr.fit(nsmc_train_tfidf, nsmc_train_df['label'])"
   ]
  },
  {
   "cell_type": "code",
   "execution_count": 24,
   "metadata": {},
   "outputs": [],
   "source": [
    "from sklearn.model_selection import GridSearchCV\n",
    "\n",
    "params = {'C': [1, 3, 3.5, 4, 4.5, 5]}\n",
    "SA_lr_grid_cv = GridSearchCV(SA_lr, param_grid=params, cv=3, scoring='accuracy', verbose=1)"
   ]
  },
  {
   "cell_type": "code",
   "execution_count": 25,
   "metadata": {},
   "outputs": [
    {
     "name": "stdout",
     "output_type": "stream",
     "text": [
      "Fitting 3 folds for each of 6 candidates, totalling 18 fits\n"
     ]
    },
    {
     "data": {
      "text/plain": [
       "GridSearchCV(cv=3, estimator=LogisticRegression(random_state=0),\n",
       "             param_grid={'C': [1, 3, 3.5, 4, 4.5, 5]}, scoring='accuracy',\n",
       "             verbose=1)"
      ]
     },
     "execution_count": 25,
     "metadata": {},
     "output_type": "execute_result"
    }
   ],
   "source": [
    "SA_lr_grid_cv.fit(nsmc_train_tfidf, nsmc_train_df['label'])"
   ]
  },
  {
   "cell_type": "code",
   "execution_count": 26,
   "metadata": {},
   "outputs": [
    {
     "name": "stdout",
     "output_type": "stream",
     "text": [
      "{'C': 3} 0.8553\n"
     ]
    }
   ],
   "source": [
    "print(SA_lr_grid_cv.best_params_, round(SA_lr_grid_cv.best_score_, 4))"
   ]
  },
  {
   "cell_type": "code",
   "execution_count": 27,
   "metadata": {},
   "outputs": [],
   "source": [
    "# 최적 파라미터의 best 모델 저장\n",
    "SA_lr_best = SA_lr_grid_cv.best_estimator_"
   ]
  },
  {
   "cell_type": "code",
   "execution_count": 28,
   "metadata": {},
   "outputs": [],
   "source": [
    "# 평가용 데이터의 피처 벡터화 : 실행시간 6분 정도 걸립니다 ☺\n",
    "nsmc_test_tfidf = tfidf.transform(nsmc_test_df['document'])"
   ]
  },
  {
   "cell_type": "code",
   "execution_count": 29,
   "metadata": {},
   "outputs": [],
   "source": [
    "test_predict = SA_lr_best.predict(nsmc_test_tfidf)"
   ]
  },
  {
   "cell_type": "code",
   "execution_count": 30,
   "metadata": {
    "scrolled": true
   },
   "outputs": [
    {
     "name": "stdout",
     "output_type": "stream",
     "text": [
      "감성 분석 정확도 :  0.857\n"
     ]
    }
   ],
   "source": [
    "from sklearn.metrics import accuracy_score\n",
    "\n",
    "print('감성 분석 정확도 : ', round(accuracy_score(nsmc_test_df['label'], test_predict), 3))"
   ]
  },
  {
   "cell_type": "code",
   "execution_count": 154,
   "metadata": {},
   "outputs": [
    {
     "name": "stdout",
     "output_type": "stream",
     "text": [
      "감성 분석할 문장입력 >> 서울시 공유정책 따릉이는 높은 만족도를 보여준다.\n"
     ]
    }
   ],
   "source": [
    "st = input('감성 분석할 문장입력 >> ')"
   ]
  },
  {
   "cell_type": "code",
   "execution_count": 155,
   "metadata": {},
   "outputs": [
    {
     "name": "stdout",
     "output_type": "stream",
     "text": [
      "['서울시', '공유정책', '따릉이는', '높은', '만족도를', '보여준다']\n",
      "['서울시 공유정책 따릉이는 높은 만족도를 보여준다']\n"
     ]
    }
   ],
   "source": [
    "# 0) 입력 텍스트에 대한 전처리 수행\n",
    "st = re.compile(r'[ㄱ-ㅣ가-힣]+').findall(st)\n",
    "print(st)\n",
    "st = [\" \".join(st)]\n",
    "print(st)"
   ]
  },
  {
   "cell_type": "code",
   "execution_count": 156,
   "metadata": {},
   "outputs": [],
   "source": [
    "# 1) 입력 텍스트의 피처 벡터화\n",
    "st_tfidf = tfidf.transform(st)\n",
    "\n",
    "# 2) 최적 감성분석 모델에 적용하여 감성 분석 평가\n",
    "st_predict = SA_lr_best.predict(st_tfidf)"
   ]
  },
  {
   "cell_type": "code",
   "execution_count": 157,
   "metadata": {},
   "outputs": [
    {
     "name": "stdout",
     "output_type": "stream",
     "text": [
      "['서울시 공유정책 따릉이는 높은 만족도를 보여준다'] ->> 부정 감성\n"
     ]
    }
   ],
   "source": [
    "# 3) 예측 값 출력하기\n",
    "if(st_predict== 0):\n",
    "    print(st , \"->> 부정 감성\")\n",
    "else :\n",
    "    print(st , \"->> 긍정 감성\")"
   ]
  },
  {
   "cell_type": "code",
   "execution_count": 3,
   "metadata": {},
   "outputs": [],
   "source": [
    "data = pd.read_csv('./따릉이 데이터/따릉이 만족도 검색결과.csv')"
   ]
  },
  {
   "cell_type": "code",
   "execution_count": 163,
   "metadata": {},
   "outputs": [
    {
     "name": "stdout",
     "output_type": "stream",
     "text": [
      "0            시민 만족도 1위 따릉이, 대여소는 폐쇄 요청 봇물 왜?\n",
      "1       회원 350만 만족도 97% 따릉이, 적자 비켜나세요 ‘따르릉~’\n",
      "2          서울시, '따릉이' 광고사업 시범 운영… 만년 적자 해결할까\n",
      "3          \"2년 새 2배\" 인기 폭발 따릉이...예산·정비는 그대로?\n",
      "4              서울시민 공유활동 활발…만족도는'따릉이'가 가장 높아\n",
      "                       ...                  \n",
      "282    서울시민 2명 중 1명 \"공유 서비스 이용해봤다\"··· 따릉이 1위\n",
      "283                서울시민이 뽑은 뉴스 1위는 자전거 '따릉이'\n",
      "284    서울시민 2명 중 1명 \"공유 서비스 이용해봤다\"··· 따릉이 1위\n",
      "285          서울 공공자전거‘따릉이’ 내달 15일부터 2000대 운영\n",
      "286                서울시민이 뽑은 뉴스 1위는 자전거 '따릉이'\n",
      "Name: title, Length: 287, dtype: object\n"
     ]
    }
   ],
   "source": [
    "print(data.title)"
   ]
  },
  {
   "cell_type": "code",
   "execution_count": 164,
   "metadata": {},
   "outputs": [],
   "source": [
    "data_title =[]\n",
    "data_description = []\n",
    "\n",
    "for item in data.title:\n",
    "    data_title.append(item)"
   ]
  },
  {
   "cell_type": "code",
   "execution_count": 165,
   "metadata": {
    "scrolled": true
   },
   "outputs": [
    {
     "data": {
      "text/plain": [
       "['시민 만족도 1위 따릉이, 대여소는 폐쇄 요청 봇물 왜?',\n",
       " '회원 350만 만족도 97% 따릉이, 적자 비켜나세요 ‘따르릉~’',\n",
       " \"서울시, '따릉이' 광고사업 시범 운영… 만년 적자 해결할까\",\n",
       " '\"2년 새 2배\" 인기 폭발 따릉이...예산·정비는 그대로?',\n",
       " \"서울시민 공유활동 활발…만족도는'따릉이'가 가장 높아\",\n",
       " '서울시 ‘따릉이’, 시민 3명 중 1명은 탄다… 누적 이용 1억 건 눈앞',\n",
       " \"서울시 공유정책, 만족도 1위는 '따릉이'..재능공유 활성화 필요해\",\n",
       " \"서울시 공유정책 만족도 1위는 '따릉이'\",\n",
       " '박원순도 오세훈도 ‘따릉이’엔 진심...서울 시민의 ‘발’ 된 따릉이',\n",
       " \"325만명이 애용하는 '따릉이', 앱 성능 향상 나선다\",\n",
       " '\"우리도 타고싶어요\" 6살 따릉이가 성공한 이유',\n",
       " '\"부천시민도 타고 싶어요\"...지구 5926바퀴 누빈 서울 따릉이',\n",
       " '[국감브리핑] 따릉이 100억 적자…기업광고 유치도 빨간불',\n",
       " '[데스크 시각] 더 힘차게 달려라 따릉이!/이창구 전국부장',\n",
       " '[국감 핫이슈] ‘100억 적자’ 따릉이…수익 낼 기업광고 유치도 ‘빨간불’',\n",
       " \"'만족도 1위' 따릉이 직원들은 ○○에 분노한다\",\n",
       " '따릉이를 탑니다, 국가의 역할을 생각합니다',\n",
       " '서울시-서울시설공단, 따릉이 광고 시범 도입',\n",
       " '결제 먹통에 로그인 오류…길에서 시간 날리는 따릉이 ‘앱’',\n",
       " \"서울시 공유자전거 '따릉이' 만족도 90% 이상\",\n",
       " '페달로·따릉이 비켜나세요···따릉따릉 잘나가는 카카오T바이크',\n",
       " '서울시민들 따릉이 사랑...\"무한대로 늘려 주세요!\"',\n",
       " '[정영재 曰] 따릉이가 바꾼 서울 풍경',\n",
       " 'MZ세대, 고물가 극복은 한솥도시락과 따릉이로 한다',\n",
       " '서울시민 만족도 1위 공유정책은?…공공자전거 ‘따릉이’',\n",
       " \"출범 1년 서울시 '따릉이' 만족도 대체로 높아\",\n",
       " '‘저임금 노동’에 ‘100억 적자’ 따릉이…“나 계속 달릴 수 있죠?”',\n",
       " '지난해만 ‘100억 적자’ 따릉이…계속 달릴 수 있을까?',\n",
       " '‘따릉이’ 서울 공유정책 인지도 1위',\n",
       " '서울시민에게 친숙해진 \\'공유 정책 서비스\\'...100명 중 95명 \"따릉이 알아\"',\n",
       " '서울시, \"따릉이 연말부터 광고 달고 달린다\"',\n",
       " \"서울시 '따릉이' 올연말 기업광고 달고 달린다…수익구조 다변화해 운영효율↑\",\n",
       " \"[오늘의 유통 단신] hy, 서울시 협업 참여형 캠페인 '프레딧X따릉이' 오픈 外\",\n",
       " '[공유경제]따릉이 타고 공유오피스로 출근…어디까지 공유해봤니',\n",
       " \"송영길 후보, 따릉이와 대중교통 환승서비스 공약 '따릉이 3.0' 발표\",\n",
       " '서울시민 10명중 4명 “따릉이 타 봤다”',\n",
       " '\"따르릉\" 하고 싶지만… 디지털 약자에겐 너무 먼 따릉이',\n",
       " '서울시 공공자전거 ‘따릉이’ 이용 올해 3.5배 증가…음주운전 우려',\n",
       " '인기폭발 따릉이의 고민…인도로 갈까, 차도로 갈까?',\n",
       " '‘따릉이’ 만큼 귀여운 각 지역 자전거 이름들',\n",
       " \"'따릉이' 어플로 간편하게\",\n",
       " \"[한줌뉴스] '따릉이'가 잠깨운 '공공의 가치'\",\n",
       " '“만년 적자에도 중단 없다”…여전한 ‘따릉이’ 인기',\n",
       " '자전거 타면 쇼핑몰 포인트가 쌓인다?···‘따릉이’ 수익성 고민하는 서울시',\n",
       " '따릉이 앱 누적 다운로드 100만 돌파',\n",
       " \"이준석도 애용하는 '따릉이', 오세훈 서울시는 왜 배척하나?\",\n",
       " '\"공공자전거에 빅데이터 등 IT 접목..따릉이, 생활밀착형 서비스로 진화\" [인터뷰]',\n",
       " \"서울시 '따릉이 소동'... 오세훈 시장에게 묻는다 [정재민의 젊은정치]\",\n",
       " '따릉이가 없어진다고? 그럴리가!? #이슈있슈',\n",
       " \"따릉이 내년 예산 '0원'에 뿔난 시민들…서울시 진화 '진땀'\",\n",
       " '`따릉이` 시민들은 원하는데…서울시, 적자 이유로 확대계획 중단',\n",
       " '서울 공공자전거 ‘따릉이’ 이용자 급증, 비결은?',\n",
       " \"서울시설공단, 메타버스에 초중고생 '따릉이 교육소' 12월 개설\",\n",
       " \"서울시설공단, 메타버스에 초중고생 '따릉이 교육소'… 아바타로 자전거타며 안전숙지\",\n",
       " '돌봄SOS 손길과 따릉이 페달, 코로나로 막힌 숨통 틔우다',\n",
       " \"[뉴스+]'따릉이'도 100억 적자…위기의 공공자전거\",\n",
       " \"'따릉이'에서 '착한셔틀 모빌리티'까지…'공유 모빌리티 산업'은 확장 중\",\n",
       " '이준석의 따릉이, 그 너머를 보자고요',\n",
       " '[단독] 따르릉~ 쿵쿵… 따릉이 위험사고 4년새 60배 늘었다',\n",
       " '[단독] 따릉이를 어쩌나…이용자 급증에 위험사고 늘어',\n",
       " \"'따릉이' 1년에 100억 까먹었다?... 규모의 경제 외면한 언론\",\n",
       " '서울시설공단, 따릉이 정비 효율 높이는 작업대 6개 정비센터에 배치',\n",
       " \"'건강 챙기는 따릉이' 전남형 공유자전거 워밍업\",\n",
       " '서울시 \"공공자전거 따릉이, 공유정책 인지도·만족도 1위\"',\n",
       " \"서울시, '새싹따릉이' 서비스 실행…송파‧강동‧은평 우선 도입\",\n",
       " \"서울시 '새싹따릉이' 운영 시작… 송파‧강동‧은평 우선 도입\",\n",
       " \"서울시, '새싹따릉이' 오늘부터 달린다…송파·강동·은평 우선 도입\",\n",
       " '따릉이 ‘타랑께’를 아시나요? 지자체 공유자전거 사업의 한계',\n",
       " \"장마에도 코로나에도 '따릉이'는 잘 나간다\",\n",
       " \"서울공공자전거 '따릉이' 비대면 신 교통수단 각광\",\n",
       " \"따릉이‧전동킥보드...'활발'한 서울시 공유경제 서비스, 시민 이용 경험은?\",\n",
       " \"서울시설공단, 따릉이 '보이는 상담' 시범운영\",\n",
       " '[2018 지자체 평가] 따릉이ㆍ청년주택 등 호평… 박원순 시장, 주민만족도 최고',\n",
       " '전기따릉이, 공무수행용으로 전환',\n",
       " '3년 연속 서울시민이 꼽은 정책 1위? 따릉이!',\n",
       " '[2019 국감] 서울시, \"따릉이 적자 나아질 것\"..효율성 지표 개선중',\n",
       " '따릉이, 고장으로 사고 급증 ‘안전대책’ 시급',\n",
       " \"'따릉이의 아성에 도전' 전기자전거·전동킥보드 공유 기업 일레클, 1000대 추가...세종시 진출\",\n",
       " '[현장취재] 늘어나는 따릉이 때문에…한강자전거대여소 울상',\n",
       " \"서울시 공유정책 인기는 '따릉이', 활성화는 '주차' 1위\",\n",
       " \"[촌철살IT] 오포 밀어낸 따릉이의 '불편한 진실'\",\n",
       " \"서울 시민이 모르는 '따릉이 무덤' 공무직 노동자들\",\n",
       " '따릉이, 서울시민 ‘10명 중 1명’ 이용…관리인력은 열악',\n",
       " '권수정 시의원 “서울시 공유정책 1위 `따릉이` 사업, 노동 사각지대”',\n",
       " '서울시, 폭염 속 따릉이 헬멧 무료대여 시작···효과는 ‘글쎄’',\n",
       " '[사회] 서울시 ‘따릉이’ 가장 많이 빌려 간 곳은?',\n",
       " '서울시 ‘따릉이’ 가장 많이 빌려 간 곳은?',\n",
       " \"공공자전거 '따릉이' 수리, 동네 자전거방에 맡긴다\",\n",
       " \"따릉이, 인기만큼 늘어가는 '적자'… 서울시 반응은?\",\n",
       " \"자전거 안전모 무료 대여 서비스 '따릉이 안전모'...논란 이유 [지식용어]\",\n",
       " \"서울시 '따릉이' 올연말 기업광고 달고 달린다…수익구조 다변화해 운영효율↑\",\n",
       " \"[오늘의 유통 단신] hy, 서울시 협업 참여형 캠페인 '프레딧X따릉이' 오픈 外\",\n",
       " '[공유경제]따릉이 타고 공유오피스로 출근…어디까지 공유해봤니',\n",
       " '서울시민 공유도시 활성화 기대 1위 ‘주차’, 인기정책은 ‘따릉이’',\n",
       " \"송영길 후보, 따릉이와 대중교통 환승서비스 공약 '따릉이 3.0' 발표\",\n",
       " '서울시민 10명중 4명 “따릉이 타 봤다”',\n",
       " '\"따르릉\" 하고 싶지만… 디지털 약자에겐 너무 먼 따릉이',\n",
       " '서울시 공공자전거 ‘따릉이’ 이용 올해 3.5배 증가…음주운전 우려',\n",
       " '인기폭발 따릉이의 고민…인도로 갈까, 차도로 갈까?',\n",
       " '‘따릉이’ 만큼 귀여운 각 지역 자전거 이름들',\n",
       " '서울시민 10명중 4명 “따릉이 타 봤다”',\n",
       " '\"따르릉\" 하고 싶지만… 디지털 약자에겐 너무 먼 따릉이',\n",
       " '송영길, 따릉이도 버스·지하철 환승 가능',\n",
       " '서울시 공공자전거 ‘따릉이’ 이용 올해 3.5배 증가…음주운전 우려',\n",
       " '인기폭발 따릉이의 고민…인도로 갈까, 차도로 갈까?',\n",
       " '‘따릉이’ 만큼 귀여운 각 지역 자전거 이름들',\n",
       " \"'따릉이' 어플로 간편하게\",\n",
       " \"초록색 공공자전거 '따릉이' 1년…서울시민 86% '만족'\",\n",
       " \"[한줌뉴스] '따릉이'가 잠깨운 '공공의 가치'\",\n",
       " '“만년 적자에도 중단 없다”…여전한 ‘따릉이’ 인기',\n",
       " \"'따릉이' 정말 편리하네\",\n",
       " \"초록색 공공자전거 '따릉이' 1년…서울시민 86% '만족'\",\n",
       " \"[한줌뉴스] '따릉이'가 잠깨운 '공공의 가치'\",\n",
       " '“만년 적자에도 중단 없다”…여전한 ‘따릉이’ 인기',\n",
       " '자전거 타면 쇼핑몰 포인트가 쌓인다?···‘따릉이’ 수익성 고민하는 서울시',\n",
       " '따릉이 앱 누적 다운로드 100만 돌파',\n",
       " '오세훈도 \"난 따릉이 팬\" 엄지척…서울시민 97%가 만족한 정책',\n",
       " \"이준석도 애용하는 '따릉이', 오세훈 서울시는 왜 배척하나?\",\n",
       " '오세훈도 \"난 따릉이 팬\" 엄지척…서울시민 97%가 만족한 정책',\n",
       " \"이준석도 애용하는 '따릉이', 오세훈 서울시는 왜 배척하나?\",\n",
       " '\"공공자전거에 빅데이터 등 IT 접목..따릉이, 생활밀착형 서비스로 진화\" [인터뷰]',\n",
       " \"'하루 이용료 1000원' ‘따릉이’ 안전도 높이는 장치 개발...서울시설공단 '혁신의 르네상스' 맞아\",\n",
       " \"서울시 '따릉이 소동'... 오세훈 시장에게 묻는다 [정재민의 젊은정치]\",\n",
       " '따릉이가 없어진다고? 그럴리가!? #이슈있슈',\n",
       " \"따릉이 내년 예산 '0원'에 뿔난 시민들…서울시 진화 '진땀'\",\n",
       " '`따릉이` 시민들은 원하는데…서울시, 적자 이유로 확대계획 중단',\n",
       " '서울 공공자전거 ‘따릉이’ 이용자 급증, 비결은?',\n",
       " '서울시 \"따릉이 신규도입 중단 사실 아니다...추가 도입 검토\"',\n",
       " '`따릉이` 시민들은 원하는데…서울시, 적자 이유로 확대계획 중단',\n",
       " '서울 공공자전거 ‘따릉이’ 이용자 급증, 비결은?',\n",
       " \"서울시설공단, 메타버스에 초중고생 '따릉이 교육소' 12월 개설\",\n",
       " \"서울시설공단, 메타버스에 초중고생 '따릉이 교육소'… 아바타로 자전거타며 안전숙지\",\n",
       " '돌봄SOS 손길과 따릉이 페달, 코로나로 막힌 숨통 틔우다',\n",
       " \"[뉴스+]'따릉이'도 100억 적자…위기의 공공자전거\",\n",
       " \"서울시민 공유서비스 만족도 1위 '아이옷·장난감 공유' 96.0%...'이용' 1위는 '따릉이' 44.5%\",\n",
       " \"'따릉이'에서 '착한셔틀 모빌리티'까지…'공유 모빌리티 산업'은 확장 중\",\n",
       " '이준석의 따릉이, 그 너머를 보자고요',\n",
       " '[단독] 따르릉~ 쿵쿵… 따릉이 위험사고 4년새 60배 늘었다',\n",
       " '[단독] 따릉이를 어쩌나…이용자 급증에 위험사고 늘어',\n",
       " \"'따릉이' 1년에 100억 까먹었다?... 규모의 경제 외면한 언론\",\n",
       " \"'따릉이' 1년에 100억 까먹었다?... 규모의 경제 외면한 언론\",\n",
       " '서울시설공단, 따릉이 정비 효율 높이는 작업대 6개 정비센터에 배치',\n",
       " \"'건강 챙기는 따릉이' 전남형 공유자전거 워밍업\",\n",
       " '서울시 \"공공자전거 따릉이, 공유정책 인지도·만족도 1위\"',\n",
       " '서울시 공유정책 인지도·만족도 1위 공공자전거＇따릉이＇',\n",
       " \"서울시, '새싹따릉이' 서비스 실행…송파‧강동‧은평 우선 도입\",\n",
       " \"서울시 '새싹따릉이' 운영 시작… 송파‧강동‧은평 우선 도입\",\n",
       " \"서울시, '새싹따릉이' 오늘부터 달린다…송파·강동·은평 우선 도입\",\n",
       " '따릉이 ‘타랑께’를 아시나요? 지자체 공유자전거 사업의 한계',\n",
       " \"장마에도 코로나에도 '따릉이'는 잘 나간다\",\n",
       " \"서울시 '새싹따릉이' 운영 시작… 송파‧강동‧은평 우선 도입\",\n",
       " \"서울시, '새싹따릉이' 오늘부터 달린다…송파·강동·은평 우선 도입\",\n",
       " '따릉이 ‘타랑께’를 아시나요? 지자체 공유자전거 사업의 한계',\n",
       " \"서울시 공유정책 인지도·만족도 1위?… 공공자전거 '따릉이'\",\n",
       " \"장마에도 코로나에도 '따릉이'는 잘 나간다\",\n",
       " \"서울공공자전거 '따릉이' 비대면 신 교통수단 각광\",\n",
       " \"따릉이‧전동킥보드...'활발'한 서울시 공유경제 서비스, 시민 이용 경험은?\",\n",
       " \"서울시설공단, 따릉이 '보이는 상담' 시범운영\",\n",
       " '[2018 지자체 평가] 따릉이ㆍ청년주택 등 호평… 박원순 시장, 주민만족도 최고',\n",
       " \"서울시 공유정책 인지도·만족도 1위?… 공공자전거 '따릉이'\",\n",
       " \"장마에도 코로나에도 '따릉이'는 잘 나간다\",\n",
       " \"서울공공자전거 '따릉이' 비대면 신 교통수단 각광\",\n",
       " \"따릉이‧전동킥보드...'활발'한 서울시 공유경제 서비스, 시민 이용 경험은?\",\n",
       " \"서울시설공단, 따릉이 '보이는 상담' 시범운영\",\n",
       " '[2018 지자체 평가] 따릉이ㆍ청년주택 등 호평… 박원순 시장, 주민만족도 최고',\n",
       " \"서울시민 50%이상 공유서비스 이용…이용률 1위 '따릉이'\",\n",
       " '전기따릉이, 공무수행용으로 전환',\n",
       " '3년 연속 서울시민이 꼽은 정책 1위? 따릉이!',\n",
       " \"서울시설공단, 따릉이 '보이는 상담' 시범운영\",\n",
       " '서울 공유정책 만족도 1위는 공공자전거 따릉이',\n",
       " '[2018 지자체 평가] 따릉이ㆍ청년주택 등 호평… 박원순 시장, 주민만족도 최고',\n",
       " '20대 서울시민 \"코로나 시대, 여행 대신 따릉이·전동 킥보드 즐겼다\"',\n",
       " \"서울시민 50%이상 공유서비스 이용…이용률 1위 '따릉이'\",\n",
       " '전기따릉이, 공무수행용으로 전환',\n",
       " '3년 연속 서울시민이 꼽은 정책 1위? 따릉이!',\n",
       " \"[아유경제_전국] 서울시설공단, 따릉이 '보이는 상담' 시범운영… 상담서비스 개선\",\n",
       " '[2018 지자체 평가] 따릉이ㆍ청년주택 등 호평… 박원순 시장, 주민만족도 최고',\n",
       " '20대 서울시민 \"코로나 시대, 여행 대신 따릉이·전동 킥보드 즐겼다\"',\n",
       " \"서울시민 50%이상 공유서비스 이용…이용률 1위 '따릉이'\",\n",
       " '전기따릉이, 공무수행용으로 전환',\n",
       " '3년 연속 서울시민이 꼽은 정책 1위? 따릉이!',\n",
       " '[2019 국감] 서울시, \"따릉이 적자 나아질 것\"..효율성 지표 개선중',\n",
       " '서울시민 2명 중 1명은 공유 서비스 이용…‘따릉이’ 이용률 최고',\n",
       " '전기따릉이, 공무수행용으로 전환',\n",
       " '3년 연속 서울시민이 꼽은 정책 1위? 따릉이!',\n",
       " '[2019 국감] 서울시, \"따릉이 적자 나아질 것\"..효율성 지표 개선중',\n",
       " '따릉이, 고장으로 사고 급증 ‘안전대책’ 시급',\n",
       " \"'따릉이의 아성에 도전' 전기자전거·전동킥보드 공유 기업 일레클, 1000대 추가...세종시 진출\",\n",
       " '[현장취재] 늘어나는 따릉이 때문에…한강자전거대여소 울상',\n",
       " \"서울시 공유정책 인기는 '따릉이', 활성화는 '주차' 1위\",\n",
       " '서울시민 60% “공유정책 서비스 이용”…이용률 1위 ‘따릉이’',\n",
       " '[2019 국감] 서울시, \"따릉이 적자 나아질 것\"..효율성 지표 개선중',\n",
       " '따릉이, 고장으로 사고 급증 ‘안전대책’ 시급',\n",
       " \"'따릉이의 아성에 도전' 전기자전거·전동킥보드 공유 기업 일레클, 1000대 추가...세종시 진출\",\n",
       " '[현장취재] 늘어나는 따릉이 때문에…한강자전거대여소 울상',\n",
       " \"서울시 공유정책 인기는 '따릉이', 활성화는 '주차' 1위\",\n",
       " \"[촌철살IT] 오포 밀어낸 따릉이의 '불편한 진실'\",\n",
       " '서울시민 60% \"공유 정책 서비스 이용\"…\\'따릉이\\' 으뜸',\n",
       " '[2019 국감] 서울시, \"따릉이 적자 나아질 것\"..효율성 지표 개선중',\n",
       " '따릉이, 고장으로 사고 급증 ‘안전대책’ 시급',\n",
       " \"'따릉이의 아성에 도전' 전기자전거·전동킥보드 공유 기업 일레클, 1000대 추가...세종시 진출\",\n",
       " '[현장취재] 늘어나는 따릉이 때문에…한강자전거대여소 울상',\n",
       " \"서울시 공유정책 인기는 '따릉이', 활성화는 '주차' 1위\",\n",
       " \"[촌철살IT] 오포 밀어낸 따릉이의 '불편한 진실'\",\n",
       " \"서울 시민이 모르는 '따릉이 무덤' 공무직 노동자들\",\n",
       " '[현장취재] 늘어나는 따릉이 때문에…한강자전거대여소 울상',\n",
       " \"서울시 공유정책 인기는 '따릉이', 활성화는 '주차' 1위\",\n",
       " \"서울시 공유정책 인기는 '따릉이', 활성화는 '주차' 1위\",\n",
       " \"[촌철살IT] 오포 밀어낸 따릉이의 '불편한 진실'\",\n",
       " \"서울 시민이 모르는 '따릉이 무덤' 공무직 노동자들\",\n",
       " '따릉이, 서울시민 ‘10명 중 1명’ 이용…관리인력은 열악',\n",
       " '권수정 시의원 “서울시 공유정책 1위 `따릉이` 사업, 노동 사각지대”',\n",
       " '서울시, 폭염 속 따릉이 헬멧 무료대여 시작···효과는 ‘글쎄’',\n",
       " '[사회] 서울시 ‘따릉이’ 가장 많이 빌려 간 곳은?',\n",
       " '서울시 ‘따릉이’ 가장 많이 빌려 간 곳은?',\n",
       " \"공공자전거 '따릉이' 수리, 동네 자전거방에 맡긴다\",\n",
       " \"따릉이, 인기만큼 늘어가는 '적자'… 서울시 반응은?\",\n",
       " \"자전거 안전모 무료 대여 서비스 '따릉이 안전모'...논란 이유 [지식용어]\",\n",
       " '서울시 따릉이, 두 달 출·퇴근길 이용해보니… 개선할 점은?',\n",
       " \"서울시 '따릉이' 안전모, 열흘 새 절반 분실…'우려가 현실로'\",\n",
       " \"[투데이 현장] '따릉이 헬멧' 어쩌나…실효성 논란\",\n",
       " \"양심에 맡긴 '따릉이 안전모'…사라지고 버려지고 '예견된 결과'\",\n",
       " '[김기자의 현장+] \"쓰는 사람도 못 봤는데요\" 예고된 사태 \\'따릉이 헬멧\\'..무료대여로 사라진다',\n",
       " \"'따릉이' 안전모 분실에 서울시설공단 25일 전수조사 실시\",\n",
       " \"서울시, '따릉이' 안전모 대여 시범사업…실효성 '논란'\",\n",
       " '서울시, 공공자전거 ‘따릉이’ 안전모 비치 여의도서 시범운영',\n",
       " \"공공 자전거 '따릉이' 이젠 헬멧 쓰세요~\",\n",
       " '‘자전거 헬멧 논란’ 따릉이도 안전모 쓴다',\n",
       " '따릉이 탈 때 헬멧 쓰세요…여의도서 헬멧 시범 대여',\n",
       " '\"따릉이 운명은?\"…헬멧 착용 의무화에 시민들 갑론을박',\n",
       " \"'새싹따릉이' 30일부터 서울시내 누빈다\",\n",
       " \"시민이 뽑은 서울시 정책 1등은 '따릉이'\",\n",
       " '2017년 서울시민이 뽑은 10대 뉴스...1위는‘따릉이’',\n",
       " '서울시설공단, 공공자전거 ‘따릉이’ 안전모 무료대여',\n",
       " '\"따릉이, 헬멧 쓰고 타자\"…여의도 대여소에 헬멧 비치',\n",
       " '\"따릉이 운명은?\"…헬멧 착용 의무화에 시민들 갑론을박',\n",
       " \"'새싹따릉이' 30일부터 서울시내 누빈다\",\n",
       " \"시민이 뽑은 서울시 정책 1등은 '따릉이'\",\n",
       " '2017년 서울시민이 뽑은 10대 뉴스...1위는‘따릉이’',\n",
       " '서울지하철에서 따릉이까지…내외국인 사랑받는 서울',\n",
       " '서울시민이 뽑은 2017년 10대 뉴스 1위 ‘따릉이’',\n",
       " '656만건 대여 따릉이, 서울시 으뜸뉴스',\n",
       " \"서울시, 공공자전거 '따릉이' 안전모 여의도서 무료대여 시범운영\",\n",
       " '내일부터 여의도서 따릉이 헬멧 시범 무료 대여',\n",
       " '\"따릉이 운명은?\"…헬멧 착용 의무화에 시민들 갑론을박',\n",
       " \"'새싹따릉이' 30일부터 서울시내 누빈다\",\n",
       " \"시민이 뽑은 서울시 정책 1등은 '따릉이'\",\n",
       " '2017년 서울시민이 뽑은 10대 뉴스...1위는‘따릉이’',\n",
       " '서울지하철에서 따릉이까지…내외국인 사랑받는 서울',\n",
       " '서울시민이 뽑은 2017년 10대 뉴스 1위 ‘따릉이’',\n",
       " '656만건 대여 따릉이, 서울시 으뜸뉴스',\n",
       " \"시민이 뽑은 서울시 정책 1등은 '따릉이'\",\n",
       " '2017년 서울시민이 뽑은 10대 뉴스...1위는‘따릉이’',\n",
       " '서울지하철에서 따릉이까지…내외국인 사랑받는 서울',\n",
       " '서울시민이 뽑은 2017년 10대 뉴스 1위 ‘따릉이’',\n",
       " '656만건 대여 따릉이, 서울시 으뜸뉴스',\n",
       " '따릉이, 여의도 일대 안전모 500개 무료 대여',\n",
       " '2017년 서울시민이 뽑은 최고의 정책은 ‘따릉이’',\n",
       " '자동차도 자전거도 공유가 대세…나눔카·따릉이 나도 타볼까',\n",
       " \"따릉이, 나눔카…시민 삶속에 스며든 '공유서울' 홍보 콘텐츠 공모\",\n",
       " '서울시민이 뽑은 2017년 10대 뉴스 1위 ‘따릉이’',\n",
       " '656만건 대여 따릉이, 서울시 으뜸뉴스',\n",
       " '따릉이, 여의도 일대 안전모 500개 무료 대여',\n",
       " '2017년 서울시민이 뽑은 최고의 정책은 ‘따릉이’',\n",
       " '2017년 시민이 뽑은 서울시 정책 1위는 ‘따릉이’',\n",
       " '서울 시민 \"따릉이 정책이 제일 좋아\"',\n",
       " '자동차도 자전거도 공유가 대세…나눔카·따릉이 나도 타볼까',\n",
       " \"따릉이, 나눔카…시민 삶속에 스며든 '공유서울' 홍보 콘텐츠 공모\",\n",
       " '[수습기자 25시] 49기 조규홍 (3) 창원 누비자 애용자의 서울 따릉이 시승기',\n",
       " '여의도에서 따릉이 탈 땐 안전모를 쓰세요',\n",
       " '2017년 서울시민이 뽑은 최고의 정책은 ‘따릉이’',\n",
       " '2017년 시민이 뽑은 서울시 정책 1위는 ‘따릉이’',\n",
       " '서울 시민 \"따릉이 정책이 제일 좋아\"',\n",
       " '자동차도 자전거도 공유가 대세…나눔카·따릉이 나도 타볼까',\n",
       " \"따릉이, 나눔카…시민 삶속에 스며든 '공유서울' 홍보 콘텐츠 공모\",\n",
       " '[수습기자 25시] 49기 조규홍 (3) 창원 누비자 애용자의 서울 따릉이 시승기',\n",
       " '서울 전역에 \\'따릉이\\' 확대 설치… \"시민의견 받아요\"',\n",
       " '따릉이 1주년, 시민 83.4% “확대 원해”',\n",
       " '\"이 xx야, 안 비켜?\" vs. \"잠시나마 여유\"… \\'따릉이\\' 타 보니',\n",
       " \"서울시 공공자전거 '따릉이' 운영 1주년 대여 161만건\",\n",
       " '\"이 xx야, 안 비켜?\" vs. \"잠시나마 여유\"… \\'따릉이\\' 타 보니',\n",
       " '공공자전거 \\'따릉이\\'…\"신촌·여의도서 무료로 타보세요\"',\n",
       " '서울시민 2명 중 1명 \"공유 서비스 이용해봤다\"··· 따릉이 1위',\n",
       " \"서울시민이 뽑은 뉴스 1위는 자전거 '따릉이'\",\n",
       " '서울시민 2명 중 1명 \"공유 서비스 이용해봤다\"··· 따릉이 1위',\n",
       " '서울 공공자전거‘따릉이’ 내달 15일부터 2000대 운영',\n",
       " \"서울시민이 뽑은 뉴스 1위는 자전거 '따릉이'\"]"
      ]
     },
     "execution_count": 165,
     "metadata": {},
     "output_type": "execute_result"
    }
   ],
   "source": [
    "data_title"
   ]
  },
  {
   "cell_type": "code",
   "execution_count": 166,
   "metadata": {},
   "outputs": [],
   "source": [
    "data_df = pd.DataFrame({'title':data_title})"
   ]
  },
  {
   "cell_type": "code",
   "execution_count": 167,
   "metadata": {},
   "outputs": [],
   "source": [
    "# 1) 분석할 데이터의 피처 벡터화 ---<< title >> 분석\n",
    "data_title_tfidf = tfidf.transform(data_df['title'])\n",
    "\n",
    "# 2) 최적 파라미터 학습모델에 적용하여 감성 분석\n",
    "data_title_predict = SA_lr_best.predict(data_title_tfidf)\n",
    "\n",
    "# 3) 감성 분석 결과값을 데이터 프레임에 저장\n",
    "data_df['title_label'] = data_title_predict"
   ]
  },
  {
   "cell_type": "code",
   "execution_count": 170,
   "metadata": {},
   "outputs": [],
   "source": [
    "# csv 파일로 저장 ---------------------------------------------\n",
    "data_df.to_csv('./따릉이 데이터/따릉이 만족도 감성분석.csv', encoding='utf8') "
   ]
  },
  {
   "cell_type": "code",
   "execution_count": 171,
   "metadata": {
    "scrolled": true
   },
   "outputs": [
    {
     "data": {
      "text/html": [
       "<div>\n",
       "<style scoped>\n",
       "    .dataframe tbody tr th:only-of-type {\n",
       "        vertical-align: middle;\n",
       "    }\n",
       "\n",
       "    .dataframe tbody tr th {\n",
       "        vertical-align: top;\n",
       "    }\n",
       "\n",
       "    .dataframe thead th {\n",
       "        text-align: right;\n",
       "    }\n",
       "</style>\n",
       "<table border=\"1\" class=\"dataframe\">\n",
       "  <thead>\n",
       "    <tr style=\"text-align: right;\">\n",
       "      <th></th>\n",
       "      <th>title</th>\n",
       "      <th>title_label</th>\n",
       "    </tr>\n",
       "  </thead>\n",
       "  <tbody>\n",
       "    <tr>\n",
       "      <th>0</th>\n",
       "      <td>시민 만족도 1위 따릉이, 대여소는 폐쇄 요청 봇물 왜?</td>\n",
       "      <td>0</td>\n",
       "    </tr>\n",
       "    <tr>\n",
       "      <th>1</th>\n",
       "      <td>회원 350만 만족도 97% 따릉이, 적자 비켜나세요 ‘따르릉~’</td>\n",
       "      <td>0</td>\n",
       "    </tr>\n",
       "    <tr>\n",
       "      <th>2</th>\n",
       "      <td>서울시, '따릉이' 광고사업 시범 운영… 만년 적자 해결할까</td>\n",
       "      <td>0</td>\n",
       "    </tr>\n",
       "    <tr>\n",
       "      <th>3</th>\n",
       "      <td>\"2년 새 2배\" 인기 폭발 따릉이...예산·정비는 그대로?</td>\n",
       "      <td>1</td>\n",
       "    </tr>\n",
       "    <tr>\n",
       "      <th>4</th>\n",
       "      <td>서울시민 공유활동 활발…만족도는'따릉이'가 가장 높아</td>\n",
       "      <td>0</td>\n",
       "    </tr>\n",
       "  </tbody>\n",
       "</table>\n",
       "</div>"
      ],
      "text/plain": [
       "                                  title  title_label\n",
       "0       시민 만족도 1위 따릉이, 대여소는 폐쇄 요청 봇물 왜?            0\n",
       "1  회원 350만 만족도 97% 따릉이, 적자 비켜나세요 ‘따르릉~’            0\n",
       "2     서울시, '따릉이' 광고사업 시범 운영… 만년 적자 해결할까            0\n",
       "3     \"2년 새 2배\" 인기 폭발 따릉이...예산·정비는 그대로?            1\n",
       "4         서울시민 공유활동 활발…만족도는'따릉이'가 가장 높아            0"
      ]
     },
     "execution_count": 171,
     "metadata": {},
     "output_type": "execute_result"
    }
   ],
   "source": [
    "data_df.head()"
   ]
  },
  {
   "cell_type": "code",
   "execution_count": 172,
   "metadata": {},
   "outputs": [
    {
     "name": "stdout",
     "output_type": "stream",
     "text": [
      "0    186\n",
      "1    101\n",
      "Name: title_label, dtype: int64\n"
     ]
    }
   ],
   "source": [
    "print(data_df['title_label'].value_counts())"
   ]
  },
  {
   "cell_type": "code",
   "execution_count": 175,
   "metadata": {},
   "outputs": [],
   "source": [
    "columns_name = ['title','title_label']\n",
    "NEG_data_df = pd.DataFrame(columns=columns_name)\n",
    "POS_data_df = pd.DataFrame(columns=columns_name)\n",
    "\n",
    "for i, data in data_df.iterrows(): \n",
    "    title = data[\"title\"] \n",
    "    t_label = data[\"title_label\"] \n",
    "    \n",
    "    if t_label == 0: # 부정 감성 샘플만 추출\n",
    "        NEG_data_df = NEG_data_df.append(pd.DataFrame([[title, t_label]],columns=columns_name),ignore_index=True)\n",
    "    else : # 긍정 감성 샘플만 추출\n",
    "        POS_data_df = POS_data_df.append(pd.DataFrame([[title, t_label]],columns=columns_name),ignore_index=True)\n",
    "     \n",
    "# 파일에 저장.\n",
    "NEG_data_df.to_csv('./따릉이 데이터/따릉이 만족도 감성분석_NES.csv', encoding='utf8') \n",
    "POS_data_df.to_csv('./따릉이 데이터/따릉이 만족도 감성분석_POS.csv', encoding='utf8') "
   ]
  },
  {
   "cell_type": "code",
   "execution_count": 176,
   "metadata": {},
   "outputs": [
    {
     "data": {
      "text/plain": [
       "(186, 101)"
      ]
     },
     "execution_count": 176,
     "metadata": {},
     "output_type": "execute_result"
    }
   ],
   "source": [
    "len(NEG_data_df), len(POS_data_df)"
   ]
  },
  {
   "cell_type": "code",
   "execution_count": 178,
   "metadata": {},
   "outputs": [],
   "source": [
    "POS_title = POS_data_df['title']"
   ]
  },
  {
   "cell_type": "code",
   "execution_count": 180,
   "metadata": {},
   "outputs": [],
   "source": [
    "POS_title_noun_tk = []\n",
    "\n",
    "for t in POS_title:\n",
    "    POS_title_noun_tk.append(okt.nouns(t)) #형태소가 명사인 것만 추출"
   ]
  },
  {
   "cell_type": "code",
   "execution_count": 181,
   "metadata": {},
   "outputs": [
    {
     "name": "stdout",
     "output_type": "stream",
     "text": [
      "[['새', '배', '인기', '폭발', '따릉', '예산', '정비', '그대로'], ['우리', '살', '따릉이', '이유'], ['데스크', '시각', '더', '따릉', '창구', '전국', '부장'], ['따릉', '국가', '역할', '생각'], ['서울시', '공유', '자전거', '따릉', '만족도', '이상'], ['시민', '따릉', '사랑', '무한'], ['정영재', '따릉이', '서울', '풍경'], ['세대', '고물', '극복', '한솥', '도시락', '따릉이'], ['임금', '노동', '적자', '따릉', '나', '계속', '수'], ['서울시', '따릉', '연말', '기업', '광고', '달', '달린다', '수익', '구조', '다변', '화해', '운영', '효율'], ['따릉', '만큼', '각', '지역', '자전거', '이름'], ['따릉', '앱', '누적', '다운로드', '돌파'], ['자전거', '빅데이터', '등', '접목', '따릉', '생활', '밀착', '서비스', '진화', '인터뷰'], ['서울시', '따릉', '소동', '오세훈', '시장', '정재민', '정치'], ['서울', '자전거', '따릉', '이용자', '급증', '비결'], ['서울', '시설', '공단', '메타', '버스', '초중고생', '따릉', '교육', '소', '아바타', '자전거', '안전', '숙지'], ['손길', '따릉', '페달', '코로나', '숨통'], ['따릉', '셔틀', '모빌리티', '공유', '모빌리티', '산업', '은', '확장', '중'], ['이준석', '따릉', '그', '너머'], ['따릉', '규모', '경제', '외면', '언론'], ['건강', '따릉', '전남', '공유', '자전거', '워밍업'], ['장마', '코로나', '따릉'], ['자전거', '따릉', '비대', '신', '교통', '수단', '각광'], ['지자체', '평가', '따릉', '청년', '주택', '등', '호평', '박원순', '시장', '주민', '만족도', '최고'], ['국감', '서울시', '따릉', '적자', '것', '효율', '지표', '개선'], ['따릉이', '아성', '도전', '전기자전거', '킥', '보드', '공유', '기업', '일레클', '추가', '세종시', '진출'], ['현장', '취재', '따릉', '때문', '한강', '자전거', '여소', '울상'], ['촌철살', '오포', '따릉이', '진실'], ['서울', '시민', '따릉', '무덤', '무직', '노동자'], ['사회', '서울시', '따릉', '가장', '간', '곳'], ['서울시', '따릉', '가장', '간', '곳'], ['자전거', '따릉', '수리', '동네', '자전거', '방'], ['서울시', '따릉', '연말', '기업', '광고', '달', '달린다', '수익', '구조', '다변', '화해', '운영', '효율'], ['따릉', '만큼', '각', '지역', '자전거', '이름'], ['따릉', '만큼', '각', '지역', '자전거', '이름'], ['초록색', '자전거', '따릉', '서울', '시민', '만족'], ['따릉', '정말'], ['초록색', '자전거', '따릉', '서울', '시민', '만족'], ['따릉', '앱', '누적', '다운로드', '돌파'], ['자전거', '빅데이터', '등', '접목', '따릉', '생활', '밀착', '서비스', '진화', '인터뷰'], ['서울시', '따릉', '소동', '오세훈', '시장', '정재민', '정치'], ['서울', '자전거', '따릉', '이용자', '급증', '비결'], ['서울', '자전거', '따릉', '이용자', '급증', '비결'], ['서울', '시설', '공단', '메타', '버스', '초중고생', '따릉', '교육', '소', '아바타', '자전거', '안전', '숙지'], ['손길', '따릉', '페달', '코로나', '숨통'], ['따릉', '셔틀', '모빌리티', '공유', '모빌리티', '산업', '은', '확장', '중'], ['이준석', '따릉', '그', '너머'], ['따릉', '규모', '경제', '외면', '언론'], ['따릉', '규모', '경제', '외면', '언론'], ['건강', '따릉', '전남', '공유', '자전거', '워밍업'], ['장마', '코로나', '따릉'], ['장마', '코로나', '따릉'], ['자전거', '따릉', '비대', '신', '교통', '수단', '각광'], ['지자체', '평가', '따릉', '청년', '주택', '등', '호평', '박원순', '시장', '주민', '만족도', '최고'], ['장마', '코로나', '따릉'], ['자전거', '따릉', '비대', '신', '교통', '수단', '각광'], ['지자체', '평가', '따릉', '청년', '주택', '등', '호평', '박원순', '시장', '주민', '만족도', '최고'], ['지자체', '평가', '따릉', '청년', '주택', '등', '호평', '박원순', '시장', '주민', '만족도', '최고'], ['서울', '시민', '코로나', '시대', '여행', '대신', '따릉', '전동', '킥', '보드'], ['아유', '경제', '전국', '서울', '시설', '공단', '따릉', '상담', '시범', '운영', '상담', '서비스', '개선'], ['지자체', '평가', '따릉', '청년', '주택', '등', '호평', '박원순', '시장', '주민', '만족도', '최고'], ['서울', '시민', '코로나', '시대', '여행', '대신', '따릉', '전동', '킥', '보드'], ['국감', '서울시', '따릉', '적자', '것', '효율', '지표', '개선'], ['국감', '서울시', '따릉', '적자', '것', '효율', '지표', '개선'], ['따릉이', '아성', '도전', '전기자전거', '킥', '보드', '공유', '기업', '일레클', '추가', '세종시', '진출'], ['현장', '취재', '따릉', '때문', '한강', '자전거', '여소', '울상'], ['국감', '서울시', '따릉', '적자', '것', '효율', '지표', '개선'], ['따릉이', '아성', '도전', '전기자전거', '킥', '보드', '공유', '기업', '일레클', '추가', '세종시', '진출'], ['현장', '취재', '따릉', '때문', '한강', '자전거', '여소', '울상'], ['촌철살', '오포', '따릉이', '진실'], ['국감', '서울시', '따릉', '적자', '것', '효율', '지표', '개선'], ['따릉이', '아성', '도전', '전기자전거', '킥', '보드', '공유', '기업', '일레클', '추가', '세종시', '진출'], ['현장', '취재', '따릉', '때문', '한강', '자전거', '여소', '울상'], ['촌철살', '오포', '따릉이', '진실'], ['서울', '시민', '따릉', '무덤', '무직', '노동자'], ['현장', '취재', '따릉', '때문', '한강', '자전거', '여소', '울상'], ['촌철살', '오포', '따릉이', '진실'], ['서울', '시민', '따릉', '무덤', '무직', '노동자'], ['사회', '서울시', '따릉', '가장', '간', '곳'], ['서울시', '따릉', '가장', '간', '곳'], ['자전거', '따릉', '수리', '동네', '자전거', '방'], ['서울시', '자전거', '따릉', '안전모', '비치', '여의도', '시범', '운영'], ['따릉', '탈', '때', '헬멧', '여의도', '헬멧', '시범', '대여'], ['지하철', '따릉이', '외국인', '서울'], ['서울시', '자전거', '따릉', '안전모', '여의도', '무료', '대여', '시범', '운영'], ['지하철', '따릉이', '외국인', '서울'], ['지하철', '따릉이', '외국인', '서울'], ['시민', '최고', '정책', '따릉'], ['시민', '최고', '정책', '따릉'], ['서울', '시민', '따릉', '정책', '제일'], ['수습', '기자', '기', '규홍', '창원', '누비자', '애용', '서울', '따릉', '승기'], ['시민', '최고', '정책', '따릉'], ['서울', '시민', '따릉', '정책', '제일'], ['수습', '기자', '기', '규홍', '창원', '누비자', '애용', '서울', '따릉', '승기'], ['이', '안', '잠시', '여유', '따릉', '타'], ['서울시', '자전거', '따릉', '운영', '주년', '대여'], ['이', '안', '잠시', '여유', '따릉', '타'], ['자전거', '따릉', '신촌', '여의도', '무료', '타'], ['시민', '뉴스', '위', '자전거', '따릉'], ['서울', '자전거', '따릉', '내달', '운영'], ['시민', '뉴스', '위', '자전거', '따릉']]\n"
     ]
    }
   ],
   "source": [
    "print(POS_title_noun_tk)  #작업 확인용 출력"
   ]
  },
  {
   "cell_type": "code",
   "execution_count": 184,
   "metadata": {},
   "outputs": [],
   "source": [
    "POS_title_noun_join = []\n",
    "\n",
    "for t in POS_title_noun_tk:\n",
    "    t2 = [w for w in t if len(w) > 1] #길이가 1인 토큰은 제외\n",
    "    POS_title_noun_join.append(\" \".join(t2)) # 토큰을 연결(join)하여 리스트 구성"
   ]
  },
  {
   "cell_type": "code",
   "execution_count": 186,
   "metadata": {},
   "outputs": [
    {
     "name": "stdout",
     "output_type": "stream",
     "text": [
      "['인기 폭발 따릉 예산 정비 그대로', '우리 따릉이 이유', '데스크 시각 따릉 창구 전국 부장', '따릉 국가 역할 생각', '서울시 공유 자전거 따릉 만족도 이상', '시민 따릉 사랑 무한', '정영재 따릉이 서울 풍경', '세대 고물 극복 한솥 도시락 따릉이', '임금 노동 적자 따릉 계속', '서울시 따릉 연말 기업 광고 달린다 수익 구조 다변 화해 운영 효율', '따릉 만큼 지역 자전거 이름', '따릉 누적 다운로드 돌파', '자전거 빅데이터 접목 따릉 생활 밀착 서비스 진화 인터뷰', '서울시 따릉 소동 오세훈 시장 정재민 정치', '서울 자전거 따릉 이용자 급증 비결', '서울 시설 공단 메타 버스 초중고생 따릉 교육 아바타 자전거 안전 숙지', '손길 따릉 페달 코로나 숨통', '따릉 셔틀 모빌리티 공유 모빌리티 산업 확장', '이준석 따릉 너머', '따릉 규모 경제 외면 언론', '건강 따릉 전남 공유 자전거 워밍업', '장마 코로나 따릉', '자전거 따릉 비대 교통 수단 각광', '지자체 평가 따릉 청년 주택 호평 박원순 시장 주민 만족도 최고', '국감 서울시 따릉 적자 효율 지표 개선', '따릉이 아성 도전 전기자전거 보드 공유 기업 일레클 추가 세종시 진출', '현장 취재 따릉 때문 한강 자전거 여소 울상', '촌철살 오포 따릉이 진실', '서울 시민 따릉 무덤 무직 노동자', '사회 서울시 따릉 가장', '서울시 따릉 가장', '자전거 따릉 수리 동네 자전거', '서울시 따릉 연말 기업 광고 달린다 수익 구조 다변 화해 운영 효율', '따릉 만큼 지역 자전거 이름', '따릉 만큼 지역 자전거 이름', '초록색 자전거 따릉 서울 시민 만족', '따릉 정말', '초록색 자전거 따릉 서울 시민 만족', '따릉 누적 다운로드 돌파', '자전거 빅데이터 접목 따릉 생활 밀착 서비스 진화 인터뷰', '서울시 따릉 소동 오세훈 시장 정재민 정치', '서울 자전거 따릉 이용자 급증 비결', '서울 자전거 따릉 이용자 급증 비결', '서울 시설 공단 메타 버스 초중고생 따릉 교육 아바타 자전거 안전 숙지', '손길 따릉 페달 코로나 숨통', '따릉 셔틀 모빌리티 공유 모빌리티 산업 확장', '이준석 따릉 너머', '따릉 규모 경제 외면 언론', '따릉 규모 경제 외면 언론', '건강 따릉 전남 공유 자전거 워밍업', '장마 코로나 따릉', '장마 코로나 따릉', '자전거 따릉 비대 교통 수단 각광', '지자체 평가 따릉 청년 주택 호평 박원순 시장 주민 만족도 최고', '장마 코로나 따릉', '자전거 따릉 비대 교통 수단 각광', '지자체 평가 따릉 청년 주택 호평 박원순 시장 주민 만족도 최고', '지자체 평가 따릉 청년 주택 호평 박원순 시장 주민 만족도 최고', '서울 시민 코로나 시대 여행 대신 따릉 전동 보드', '아유 경제 전국 서울 시설 공단 따릉 상담 시범 운영 상담 서비스 개선', '지자체 평가 따릉 청년 주택 호평 박원순 시장 주민 만족도 최고', '서울 시민 코로나 시대 여행 대신 따릉 전동 보드', '국감 서울시 따릉 적자 효율 지표 개선', '국감 서울시 따릉 적자 효율 지표 개선', '따릉이 아성 도전 전기자전거 보드 공유 기업 일레클 추가 세종시 진출', '현장 취재 따릉 때문 한강 자전거 여소 울상', '국감 서울시 따릉 적자 효율 지표 개선', '따릉이 아성 도전 전기자전거 보드 공유 기업 일레클 추가 세종시 진출', '현장 취재 따릉 때문 한강 자전거 여소 울상', '촌철살 오포 따릉이 진실', '국감 서울시 따릉 적자 효율 지표 개선', '따릉이 아성 도전 전기자전거 보드 공유 기업 일레클 추가 세종시 진출', '현장 취재 따릉 때문 한강 자전거 여소 울상', '촌철살 오포 따릉이 진실', '서울 시민 따릉 무덤 무직 노동자', '현장 취재 따릉 때문 한강 자전거 여소 울상', '촌철살 오포 따릉이 진실', '서울 시민 따릉 무덤 무직 노동자', '사회 서울시 따릉 가장', '서울시 따릉 가장', '자전거 따릉 수리 동네 자전거', '서울시 자전거 따릉 안전모 비치 여의도 시범 운영', '따릉 헬멧 여의도 헬멧 시범 대여', '지하철 따릉이 외국인 서울', '서울시 자전거 따릉 안전모 여의도 무료 대여 시범 운영', '지하철 따릉이 외국인 서울', '지하철 따릉이 외국인 서울', '시민 최고 정책 따릉', '시민 최고 정책 따릉', '서울 시민 따릉 정책 제일', '수습 기자 규홍 창원 누비자 애용 서울 따릉 승기', '시민 최고 정책 따릉', '서울 시민 따릉 정책 제일', '수습 기자 규홍 창원 누비자 애용 서울 따릉 승기', '잠시 여유 따릉', '서울시 자전거 따릉 운영 주년 대여', '잠시 여유 따릉', '자전거 따릉 신촌 여의도 무료', '시민 뉴스 자전거 따릉', '서울 자전거 따릉 내달 운영', '시민 뉴스 자전거 따릉']\n"
     ]
    }
   ],
   "source": [
    "print(POS_title_noun_join)  #작업 확인용 출력"
   ]
  },
  {
   "cell_type": "code",
   "execution_count": 188,
   "metadata": {},
   "outputs": [],
   "source": [
    "NEG_title = NEG_data_df['title']\n",
    "\n",
    "NEG_title_noun_tk = []\n",
    "NEG_title_noun_join = []\n",
    "\n",
    "for t in NEG_title:\n",
    "    NEG_title_noun_tk.append(okt.nouns(t)) #형태소가 명사인 것만 추출\n",
    "    \n",
    "for t in NEG_title_noun_tk:\n",
    "    t2 = [w for w in t if len(w) > 1]  #길이가 1인 토큰은 제외\n",
    "    NEG_title_noun_join.append(\" \".join(t2)) # 토큰을 연결(join)하여 리스트 구성"
   ]
  },
  {
   "cell_type": "code",
   "execution_count": 189,
   "metadata": {},
   "outputs": [
    {
     "name": "stdout",
     "output_type": "stream",
     "text": [
      "['시민 만족도 따릉 여소 폐쇄 요청 봇물', '회원 만족도 따릉 적자', '서울시 따릉 광고 사업 시범 운영 만년 적자 해결', '서울 시민 공유 활동 활발 만족도 따릉 가장', '서울시 따릉 시민 누적 이용 눈앞', '서울시 공유 정책 만족도 따릉 재능 공유 활성화', '서울시 공유 정책 만족도 따릉', '박원순 오세훈 따릉 진심 서울 시민 따릉', '애용 따릉 성능 향상', '부천 시민 타고 지구 바퀴 누빈 서울 따릉', '국감 브리핑 따릉 적자 기업 광고 유치', '국감 핫이슈 적자 따릉 수익 기업 광고 유치', '만족도 따릉 직원', '서울시 서울 시설 공단 따릉 광고 시범 도입', '결제 먹통 로그인 오류 시간 따릉', '페달 따릉 따릉따릉 카카오 바이크', '서울 시민 만족도 공유 정책 자전거 따릉', '출범 서울시 따릉 만족도 대체로', '지난해 적자 따릉 계속', '따릉 서울 공유 정책 인지도', '시민 공유 정책 서비스 따릉', '서울시 따릉 연말 광고 달린다', '오늘 유통 단신 서울시 협업 참여 캠페인 프레 따릉 오픈', '공유경제 따릉 타고 공유 오피스 출근 어디 공유', '송영길 후보 따릉이 대중교통 환승 서비스 공약 따릉 발표', '서울 시민 명중 따릉', '디지털 약자 따릉', '서울시 자전거 따릉 이용 올해 증가 음주운전 우려', '인기 폭발 따릉이 고민 인도 차도', '따릉 어플', '뉴스 따릉 공공 가치', '만년 적자 중단 따릉 인기', '자전거 쇼핑몰 포인트 따릉 수익 고민 서울시', '이준석 애용 따릉 오세훈 서울시 배척 하나', '따릉이 리가', '따릉 내년 예산 시민 서울시 진화 진땀', '따릉 시민 서울시 적자 이유 확대 계획 중단', '서울 시설 공단 메타 버스 초중고생 따릉 교육 개설', '뉴스 따릉 적자 위기 자전거', '단독 따릉 위험 사고', '단독 따릉 이용자 급증 위험 사고', '서울 시설 공단 따릉 정비 효율 작업대 정비 센터 배치', '서울시 자전거 따릉 공유 정책 인지도 만족도', '서울시 새싹따릉 서비스 실행 송파 강동 은평 우선 도입', '서울시 새싹따릉 운영 시작 송파 강동 은평 우선 도입', '서울시 새싹따릉 오늘 달린다 송파 강동 은평 우선 도입', '따릉 지자체 공유 자전거 사업 한계', '따릉 보드 활발 서울시 공유경제 서비스 시민 이용 경험', '서울 시설 공단 따릉 상담 시범 운영', '따릉 공무 수행 전환', '연속 시민 정책 따릉', '따릉 고장 사고 급증 안전 대책 시급', '서울시 공유 정책 인기 따릉 활성화 주차', '따릉 서울 시민 이용 관리인', '권수정 의원 서울시 공유 정책 따릉 사업 노동 사각 지대', '서울시 폭염 따릉 헬멧 무료 대여 시작 효과 글쎄', '따릉 인기 적자 서울시 반응', '자전거 안전모 무료 대여 서비스 따릉 안전모 논란 이유 식용어', '오늘 유통 단신 서울시 협업 참여 캠페인 프레 따릉 오픈', '공유경제 따릉 타고 공유 오피스 출근 어디 공유', '서울 시민 공유 도시 활성화 기대 주차 인기 정책 따릉', '송영길 후보 따릉이 대중교통 환승 서비스 공약 따릉 발표', '서울 시민 명중 따릉', '디지털 약자 따릉', '서울시 자전거 따릉 이용 올해 증가 음주운전 우려', '인기 폭발 따릉이 고민 인도 차도', '서울 시민 명중 따릉', '디지털 약자 따릉', '송영길 따릉이 버스 지하철 환승 가능', '서울시 자전거 따릉 이용 올해 증가 음주운전 우려', '인기 폭발 따릉이 고민 인도 차도', '따릉 어플', '뉴스 따릉 공공 가치', '만년 적자 중단 따릉 인기', '뉴스 따릉 공공 가치', '만년 적자 중단 따릉 인기', '자전거 쇼핑몰 포인트 따릉 수익 고민 서울시', '오세훈 따릉 엄지 서울 시민 정책', '이준석 애용 따릉 오세훈 서울시 배척 하나', '오세훈 따릉 엄지 서울 시민 정책', '이준석 애용 따릉 오세훈 서울시 배척 하나', '하루 이용 따릉 안전 장치 개발 서울 시설 공단 혁신 르네상스', '따릉이 리가', '따릉 내년 예산 시민 서울시 진화 진땀', '따릉 시민 서울시 적자 이유 확대 계획 중단', '서울시 따릉 신규 도입 중단 사실 추가 도입 검토', '따릉 시민 서울시 적자 이유 확대 계획 중단', '서울 시설 공단 메타 버스 초중고생 따릉 교육 개설', '뉴스 따릉 적자 위기 자전거', '서울 시민 공유 서비스 만족도 아이 장난감 공유 이용 따릉', '단독 따릉 위험 사고', '단독 따릉 이용자 급증 위험 사고', '서울 시설 공단 따릉 정비 효율 작업대 정비 센터 배치', '서울시 자전거 따릉 공유 정책 인지도 만족도', '서울시 공유 정책 인지도 만족도 자전거 따릉', '서울시 새싹따릉 서비스 실행 송파 강동 은평 우선 도입', '서울시 새싹따릉 운영 시작 송파 강동 은평 우선 도입', '서울시 새싹따릉 오늘 달린다 송파 강동 은평 우선 도입', '따릉 지자체 공유 자전거 사업 한계', '서울시 새싹따릉 운영 시작 송파 강동 은평 우선 도입', '서울시 새싹따릉 오늘 달린다 송파 강동 은평 우선 도입', '따릉 지자체 공유 자전거 사업 한계', '서울시 공유 정책 인지도 만족도 자전거 따릉', '따릉 보드 활발 서울시 공유경제 서비스 시민 이용 경험', '서울 시설 공단 따릉 상담 시범 운영', '서울시 공유 정책 인지도 만족도 자전거 따릉', '따릉 보드 활발 서울시 공유경제 서비스 시민 이용 경험', '서울 시설 공단 따릉 상담 시범 운영', '서울 시민 이상 공유 서비스 이용 이용 따릉', '따릉 공무 수행 전환', '연속 시민 정책 따릉', '서울 시설 공단 따릉 상담 시범 운영', '서울 공유 정책 만족도 자전거 따릉', '서울 시민 이상 공유 서비스 이용 이용 따릉', '따릉 공무 수행 전환', '연속 시민 정책 따릉', '서울 시민 이상 공유 서비스 이용 이용 따릉', '따릉 공무 수행 전환', '연속 시민 정책 따릉', '서울 시민 공유 서비스 이용 따릉 이용 최고', '따릉 공무 수행 전환', '연속 시민 정책 따릉', '따릉 고장 사고 급증 안전 대책 시급', '서울시 공유 정책 인기 따릉 활성화 주차', '서울 시민 공유 정책 서비스 이용 이용 따릉', '따릉 고장 사고 급증 안전 대책 시급', '서울시 공유 정책 인기 따릉 활성화 주차', '서울 시민 공유 정책 서비스 이용 따릉 으뜸', '따릉 고장 사고 급증 안전 대책 시급', '서울시 공유 정책 인기 따릉 활성화 주차', '서울시 공유 정책 인기 따릉 활성화 주차', '서울시 공유 정책 인기 따릉 활성화 주차', '따릉 서울 시민 이용 관리인', '권수정 의원 서울시 공유 정책 따릉 사업 노동 사각 지대', '서울시 폭염 따릉 헬멧 무료 대여 시작 효과 글쎄', '따릉 인기 적자 서울시 반응', '자전거 안전모 무료 대여 서비스 따릉 안전모 논란 이유 식용어', '서울시 따릉 퇴근길 이용 개선', '서울시 따릉 안전모 열흘 절반 분실 우려 현실', '투데이 현장 따릉 헬멧 실효 논란', '양심 따릉 안전모 예견 결과', '기자 현장 사람 예고 사태 따릉 헬멧 무료 대여', '따릉 안전모 분실 서울 시설 공단 전수 조사 실시', '서울시 따릉 안전모 대여 시범 사업 실효 논란', '공공 자전거 따릉 헬멧', '자전거 헬멧 논란 따릉이 안전모', '따릉 운명 헬멧 착용 의무 시민 갑론', '새싹따릉 서울 시내', '시민 서울시 정책 따릉', '시민 뉴스 따릉', '서울 시설 공단 자전거 따릉 안전모 무료 대여', '따릉 헬멧 타자 여의도 여소 헬멧 비치', '따릉 운명 헬멧 착용 의무 시민 갑론', '새싹따릉 서울 시내', '시민 서울시 정책 따릉', '시민 뉴스 따릉', '시민 뉴스 따릉', '대여 따릉 서울시 으뜸 뉴스', '내일 여의도 따릉 헬멧 시범 무료 대여', '따릉 운명 헬멧 착용 의무 시민 갑론', '새싹따릉 서울 시내', '시민 서울시 정책 따릉', '시민 뉴스 따릉', '시민 뉴스 따릉', '대여 따릉 서울시 으뜸 뉴스', '시민 서울시 정책 따릉', '시민 뉴스 따릉', '시민 뉴스 따릉', '대여 따릉 서울시 으뜸 뉴스', '따릉 여의도 일대 안전모 무료 대여', '자동차 자전거 공유 대세 나눔카 따릉', '따릉 나눔카 시민 삶속 공유 서울 홍보 콘텐츠 공모', '시민 뉴스 따릉', '대여 따릉 서울시 으뜸 뉴스', '따릉 여의도 일대 안전모 무료 대여', '시민 서울시 정책 따릉', '자동차 자전거 공유 대세 나눔카 따릉', '따릉 나눔카 시민 삶속 공유 서울 홍보 콘텐츠 공모', '여의도 따릉 안전모', '시민 서울시 정책 따릉', '자동차 자전거 공유 대세 나눔카 따릉', '따릉 나눔카 시민 삶속 공유 서울 홍보 콘텐츠 공모', '서울 전역 따릉 확대 설치 시민 의견', '따릉 주년 시민 확대', '서울 시민 공유 서비스 이용 따릉', '서울 시민 공유 서비스 이용 따릉']\n"
     ]
    }
   ],
   "source": [
    "print(NEG_title_noun_join)  #작업 확인용 출력"
   ]
  },
  {
   "cell_type": "code",
   "execution_count": 190,
   "metadata": {},
   "outputs": [],
   "source": [
    "POS_tfidf = TfidfVectorizer(tokenizer = okt_tokenizer, min_df=2 )\n",
    "POS_dtm = POS_tfidf.fit_transform(POS_title_noun_join)"
   ]
  },
  {
   "cell_type": "code",
   "execution_count": 191,
   "metadata": {},
   "outputs": [],
   "source": [
    "POS_vocab = dict() \n",
    "\n",
    "for idx, word in enumerate(POS_tfidf.get_feature_names()):\n",
    "    POS_vocab[word] = POS_dtm.getcol(idx).sum()\n",
    "    \n",
    "POS_words = sorted(POS_vocab.items(), key=lambda x: x[1], reverse=True)"
   ]
  },
  {
   "cell_type": "code",
   "execution_count": 192,
   "metadata": {},
   "outputs": [
    {
     "data": {
      "text/plain": [
       "[('따릉', 15.963046203172452),\n",
       " ('자전거', 8.82277499216442),\n",
       " ('서울', 6.756915195616417),\n",
       " ('시민', 6.4321789491913215),\n",
       " ('이', 6.300293891923012),\n",
       " ('서울시', 5.827821289533808),\n",
       " ('코로나', 3.9666287727455964),\n",
       " ('최고', 3.16370235171699),\n",
       " ('적자', 3.054462888167692),\n",
       " ('정책', 3.0065656017058235),\n",
       " ('장마', 2.989166330544055),\n",
       " ('공유', 2.8761362987205175),\n",
       " ('가장', 2.8151347142536483),\n",
       " ('운영', 2.7986904014613243),\n",
       " ('효율', 2.5273058273674924),\n",
       " ('개선', 2.400478562938911),\n",
       " ('시장', 2.187892220802137),\n",
       " ('국감', 2.177022137421675),\n",
       " ('지표', 2.177022137421675),\n",
       " ('만족도', 2.1454081004910046),\n",
       " ('오포', 2.1112109755858164),\n",
       " ('진실', 2.1112109755858164),\n",
       " ('촌철살', 2.1112109755858164),\n",
       " ('여의도', 2.005015142944997),\n",
       " ('때문', 1.9800806184863249),\n",
       " ('여소', 1.9800806184863249),\n",
       " ('울상', 1.9800806184863249),\n",
       " ('취재', 1.9800806184863249),\n",
       " ('한강', 1.9800806184863249),\n",
       " ('현장', 1.9800806184863249),\n",
       " ('보드', 1.8262684409755792),\n",
       " ('외국인', 1.76955450923419),\n",
       " ('지하철', 1.76955450923419),\n",
       " ('경제', 1.7688777714510688),\n",
       " ('시범', 1.7259029262375736),\n",
       " ('기업', 1.694661332224293),\n",
       " ('만큼', 1.6494931187108197),\n",
       " ('이름', 1.6494931187108197),\n",
       " ('지역', 1.6494931187108197),\n",
       " ('대여', 1.6268651087062893),\n",
       " ('박원순', 1.6100230629771828),\n",
       " ('주민', 1.6100230629771828),\n",
       " ('주택', 1.6100230629771828),\n",
       " ('지자체', 1.6100230629771828),\n",
       " ('청년', 1.6100230629771828),\n",
       " ('평가', 1.6100230629771828),\n",
       " ('호평', 1.6100230629771828),\n",
       " ('급증', 1.5696769295238202),\n",
       " ('비결', 1.5696769295238202),\n",
       " ('이용자', 1.5696769295238202),\n",
       " ('뉴스', 1.5490156831585566),\n",
       " ('노동자', 1.5282550150381247),\n",
       " ('무덤', 1.5282550150381247),\n",
       " ('무직', 1.5282550150381247),\n",
       " ('규모', 1.508863882587064),\n",
       " ('언론', 1.508863882587064),\n",
       " ('외면', 1.508863882587064),\n",
       " ('모빌리티', 1.45213973888133),\n",
       " ('각광', 1.445415224378766),\n",
       " ('교통', 1.445415224378766),\n",
       " ('비대', 1.445415224378766),\n",
       " ('수단', 1.445415224378766),\n",
       " ('너머', 1.3972664702258506),\n",
       " ('여유', 1.3972664702258506),\n",
       " ('이준석', 1.3972664702258506),\n",
       " ('잠시', 1.3972664702258506),\n",
       " ('전국', 1.3590832608074084),\n",
       " ('사회', 1.3481449767688032),\n",
       " ('제일', 1.2737045184614981),\n",
       " ('도전', 1.2678862530811386),\n",
       " ('세종시', 1.2678862530811386),\n",
       " ('아성', 1.2678862530811386),\n",
       " ('일레클', 1.2678862530811386),\n",
       " ('전기자전거', 1.2678862530811386),\n",
       " ('진출', 1.2678862530811386),\n",
       " ('추가', 1.2678862530811386),\n",
       " ('동네', 1.16775443638335),\n",
       " ('수리', 1.16775443638335),\n",
       " ('만족', 1.1606067677029275),\n",
       " ('초록색', 1.1606067677029275),\n",
       " ('누적', 1.1454202909830584),\n",
       " ('다운로드', 1.1454202909830584),\n",
       " ('돌파', 1.1454202909830584),\n",
       " ('무료', 1.1161212454530864),\n",
       " ('서비스', 1.0588841132901425),\n",
       " ('손길', 1.050844206989265),\n",
       " ('숨통', 1.050844206989265),\n",
       " ('페달', 1.050844206989265),\n",
       " ('건강', 1.024805707577519),\n",
       " ('워밍업', 1.024805707577519),\n",
       " ('전남', 1.024805707577519),\n",
       " ('공단', 0.9715881873676446),\n",
       " ('시설', 0.9715881873676446),\n",
       " ('안전모', 0.9303469751946707),\n",
       " ('소동', 0.8919885405669665),\n",
       " ('오세훈', 0.8919885405669665),\n",
       " ('정재민', 0.8919885405669665),\n",
       " ('정치', 0.8919885405669665),\n",
       " ('대신', 0.8176858517607702),\n",
       " ('시대', 0.8176858517607702),\n",
       " ('여행', 0.8176858517607702),\n",
       " ('전동', 0.8176858517607702),\n",
       " ('밀착', 0.7481219827453661),\n",
       " ('빅데이터', 0.7481219827453661),\n",
       " ('생활', 0.7481219827453661),\n",
       " ('인터뷰', 0.7481219827453661),\n",
       " ('접목', 0.7481219827453661),\n",
       " ('진화', 0.7481219827453661),\n",
       " ('규홍', 0.7376456608267558),\n",
       " ('기자', 0.7376456608267558),\n",
       " ('누비자', 0.7376456608267558),\n",
       " ('수습', 0.7376456608267558),\n",
       " ('승기', 0.7376456608267558),\n",
       " ('애용', 0.7376456608267558),\n",
       " ('창원', 0.7376456608267558),\n",
       " ('산업', 0.726069869440665),\n",
       " ('셔틀', 0.726069869440665),\n",
       " ('확장', 0.726069869440665),\n",
       " ('광고', 0.6557692778457315),\n",
       " ('구조', 0.6557692778457315),\n",
       " ('다변', 0.6557692778457315),\n",
       " ('달린다', 0.6557692778457315),\n",
       " ('수익', 0.6557692778457315),\n",
       " ('연말', 0.6557692778457315),\n",
       " ('화해', 0.6557692778457315),\n",
       " ('교육', 0.6549012212474878),\n",
       " ('메타', 0.6549012212474878),\n",
       " ('버스', 0.6549012212474878),\n",
       " ('숙지', 0.6549012212474878),\n",
       " ('아바타', 0.6549012212474878),\n",
       " ('안전', 0.6549012212474878),\n",
       " ('초중고생', 0.6549012212474878)]"
      ]
     },
     "execution_count": 192,
     "metadata": {},
     "output_type": "execute_result"
    }
   ],
   "source": [
    "POS_words  #작업 확인용 출력"
   ]
  },
  {
   "cell_type": "code",
   "execution_count": 193,
   "metadata": {},
   "outputs": [],
   "source": [
    "NEG_tfidf = TfidfVectorizer(tokenizer = okt_tokenizer, min_df=2 )\n",
    "NEG_dtm = NEG_tfidf.fit_transform(NEG_title_noun_join)"
   ]
  },
  {
   "cell_type": "code",
   "execution_count": 194,
   "metadata": {},
   "outputs": [],
   "source": [
    "NEG_vocab = dict() \n",
    "\n",
    "for idx, word in enumerate(NEG_tfidf.get_feature_names()):\n",
    "    NEG_vocab[word] = NEG_dtm.getcol(idx).sum()\n",
    "    \n",
    "NEG_words = sorted(NEG_vocab.items(), key=lambda x: x[1], reverse=True)"
   ]
  },
  {
   "cell_type": "code",
   "execution_count": 195,
   "metadata": {},
   "outputs": [
    {
     "data": {
      "text/plain": [
       "[('따릉', 26.846290662206005),\n",
       " ('시민', 20.19111134184658),\n",
       " ('서울시', 16.592038005706826),\n",
       " ('정책', 14.484444701912663),\n",
       " ('공유', 13.449480784607823),\n",
       " ('서울', 13.048935150473724),\n",
       " ('뉴스', 10.648593258353703),\n",
       " ('이용', 9.901132110870266),\n",
       " ('자전거', 8.582451403265308),\n",
       " ('만족도', 8.293003718237188),\n",
       " ('적자', 6.767395462015763),\n",
       " ('서비스', 6.623578341938176),\n",
       " ('인기', 6.1910973024933655),\n",
       " ('안전모', 5.638163849986502),\n",
       " ('대여', 5.431304081543946),\n",
       " ('헬멧', 4.6810521031835215),\n",
       " ('공단', 4.2787994802169536),\n",
       " ('시설', 4.2787994802169536),\n",
       " ('새싹', 4.242147466645675),\n",
       " ('활성화', 4.007065106233123),\n",
       " ('연속', 3.906611837129917),\n",
       " ('도입', 3.876016538975425),\n",
       " ('이', 3.747147068714632),\n",
       " ('주차', 3.610464981593217),\n",
       " ('인지도', 3.511549853966064),\n",
       " ('무료', 3.4277314466135342),\n",
       " ('시범', 3.373849219011296),\n",
       " ('사고', 3.3066088416968427),\n",
       " ('중단', 3.2573192428286344),\n",
       " ('운영', 3.1506982626151885),\n",
       " ('으뜸', 3.099231967191707),\n",
       " ('오세훈', 3.019012179848431),\n",
       " ('확대', 2.9950652212278155),\n",
       " ('공무', 2.8626438218095633),\n",
       " ('수행', 2.8626438218095633),\n",
       " ('전환', 2.8626438218095633),\n",
       " ('사업', 2.8252694728398815),\n",
       " ('강동', 2.7559713727825264),\n",
       " ('송파', 2.7559713727825264),\n",
       " ('우선', 2.7559713727825264),\n",
       " ('은평', 2.7559713727825264),\n",
       " ('여의도', 2.6316200689787728),\n",
       " ('나눔카', 2.5521300369196416),\n",
       " ('공공', 2.523768889048266),\n",
       " ('명중', 2.451925024204991),\n",
       " ('급증', 2.406105230063936),\n",
       " ('광고', 2.3522962397451006),\n",
       " ('애용', 2.268229397831397),\n",
       " ('만년', 2.1843159351907704),\n",
       " ('안전', 2.180531896537177),\n",
       " ('시내', 2.176197599778456),\n",
       " ('디지털', 2.0990810796333736),\n",
       " ('약자', 2.0990810796333736),\n",
       " ('단독', 2.096751425667754),\n",
       " ('위험', 2.096751425667754),\n",
       " ('논란', 2.0959927532498286),\n",
       " ('고민', 2.070142294037585),\n",
       " ('이유', 2.000323330169448),\n",
       " ('상담', 1.9719627398836308),\n",
       " ('어플', 1.9630862684452253),\n",
       " ('공유경제', 1.9534338691685798),\n",
       " ('가치', 1.9252591528328404),\n",
       " ('활발', 1.9199275472790118),\n",
       " ('시작', 1.8813195008005774),\n",
       " ('우려', 1.8521036319607327),\n",
       " ('달린다', 1.8505630987291508),\n",
       " ('오늘', 1.738781633468884),\n",
       " ('고장', 1.6916711132391107),\n",
       " ('대책', 1.6916711132391107),\n",
       " ('시급', 1.6916711132391107),\n",
       " ('지자체', 1.6226001376578456),\n",
       " ('한계', 1.6226001376578456),\n",
       " ('타고', 1.613584985984785),\n",
       " ('대세', 1.611327434657277),\n",
       " ('자동차', 1.611327434657277),\n",
       " ('리가', 1.5694933985976962),\n",
       " ('이상', 1.5117043835505546),\n",
       " ('관리인', 1.479113882357129),\n",
       " ('계획', 1.4399614681603035),\n",
       " ('반응', 1.3779402333110824),\n",
       " ('갑론', 1.3643383714985784),\n",
       " ('운명', 1.3643383714985784),\n",
       " ('의무', 1.3643383714985784),\n",
       " ('착용', 1.3643383714985784),\n",
       " ('배척', 1.3531713609755278),\n",
       " ('이준석', 1.3531713609755278),\n",
       " ('하나', 1.3531713609755278),\n",
       " ('올해', 1.3494905830527684),\n",
       " ('음주운전', 1.3494905830527684),\n",
       " ('증가', 1.3494905830527684),\n",
       " ('수익', 1.340861699777454),\n",
       " ('경험', 1.3355728545811418),\n",
       " ('보드', 1.3355728545811418),\n",
       " ('인도', 1.3350702424694565),\n",
       " ('차도', 1.3350702424694565),\n",
       " ('폭발', 1.3350702424694565),\n",
       " ('위기', 1.3329675328692843),\n",
       " ('정비', 1.31235730518507),\n",
       " ('엄지', 1.2893706591311067),\n",
       " ('여소', 1.2801644757205974),\n",
       " ('버스', 1.2792269423981155),\n",
       " ('공모', 1.2740922438639415),\n",
       " ('삶속', 1.2740922438639415),\n",
       " ('콘텐츠', 1.2740922438639415),\n",
       " ('홍보', 1.2740922438639415),\n",
       " ('송영길', 1.2376852867187411),\n",
       " ('환승', 1.2376852867187411),\n",
       " ('분실', 1.2223918819453303),\n",
       " ('현장', 1.1658056319413967),\n",
       " ('일대', 1.0885176070452276),\n",
       " ('실효', 1.0355565052292943),\n",
       " ('이용자', 1.0032075881748528),\n",
       " ('쇼핑몰', 0.9790224578409804),\n",
       " ('포인트', 0.9790224578409804),\n",
       " ('내년', 0.9565256473143979),\n",
       " ('예산', 0.9565256473143979),\n",
       " ('진땀', 0.9565256473143979),\n",
       " ('진화', 0.9565256473143979),\n",
       " ('국감', 0.9270920202456738),\n",
       " ('기업', 0.9270920202456738),\n",
       " ('유치', 0.9270920202456738),\n",
       " ('실행', 0.8806799021199782),\n",
       " ('글쎄', 0.8499888889497781),\n",
       " ('폭염', 0.8499888889497781),\n",
       " ('효과', 0.8499888889497781),\n",
       " ('어디', 0.8435590589888898),\n",
       " ('오피스', 0.8435590589888898),\n",
       " ('출근', 0.8435590589888898),\n",
       " ('개설', 0.8044502173654665),\n",
       " ('교육', 0.8044502173654665),\n",
       " ('메타', 0.8044502173654665),\n",
       " ('초중고생', 0.8044502173654665),\n",
       " ('권수정', 0.7933651655428701),\n",
       " ('노동', 0.7933651655428701),\n",
       " ('사각', 0.7933651655428701),\n",
       " ('의원', 0.7933651655428701),\n",
       " ('지대', 0.7933651655428701),\n",
       " ('식용어', 0.7871825604268641),\n",
       " ('공약', 0.7604418438785361),\n",
       " ('대중교통', 0.7604418438785361),\n",
       " ('발표', 0.7604418438785361),\n",
       " ('후보', 0.7604418438785361),\n",
       " ('단신', 0.7094750797558933),\n",
       " ('오픈', 0.7094750797558933),\n",
       " ('유통', 0.7094750797558933),\n",
       " ('참여', 0.7094750797558933),\n",
       " ('캠페인', 0.7094750797558933),\n",
       " ('프레', 0.7094750797558933),\n",
       " ('협업', 0.7094750797558933),\n",
       " ('배치', 0.656178652592535),\n",
       " ('센터', 0.656178652592535),\n",
       " ('작업대', 0.656178652592535),\n",
       " ('효율', 0.656178652592535)]"
      ]
     },
     "execution_count": 195,
     "metadata": {},
     "output_type": "execute_result"
    }
   ],
   "source": [
    "NEG_words   #작업 확인용 출력"
   ]
  },
  {
   "cell_type": "code",
   "execution_count": 196,
   "metadata": {},
   "outputs": [],
   "source": [
    "import matplotlib\n",
    "import matplotlib.pyplot as plt\n",
    "import matplotlib.font_manager as fm\n",
    "\n",
    "fm.get_fontconfig_fonts()\n",
    "font_location = 'C:/Windows/Fonts/malgun.ttf'\n",
    "font_name = fm.FontProperties(fname=font_location).get_name()\n",
    "matplotlib.rc('font', family=font_name)\n",
    "\n",
    "max = 15  #바 차트에 나타낼 단어의 수 "
   ]
  },
  {
   "cell_type": "code",
   "execution_count": 197,
   "metadata": {},
   "outputs": [
    {
     "data": {
      "image/png": "[encoded data removed]",
      "text/plain": [
       "<Figure size 432x288 with 1 Axes>"
      ]
     },
     "metadata": {
      "needs_background": "light"
     },
     "output_type": "display_data"
    }
   ],
   "source": [
    "plt.bar(range(max), [i[1] for i in POS_words[:max]], color=\"blue\")\n",
    "plt.title(\"긍정 뉴스의 단어 상위 %d개\" %max, fontsize=15)\n",
    "plt.xlabel(\"단어\", fontsize=12)\n",
    "plt.ylabel(\"TF-IDF의 합\", fontsize=12)\n",
    "plt.xticks(range(max), [i[0] for i in POS_words[:max]], rotation=70)\n",
    "\n",
    "plt.show()"
   ]
  },
  {
   "cell_type": "code",
   "execution_count": 198,
   "metadata": {},
   "outputs": [
    {
     "data": {
      "image/png": "[encoded data removed]",
      "text/plain": [
       "<Figure size 432x288 with 1 Axes>"
      ]
     },
     "metadata": {
      "needs_background": "light"
     },
     "output_type": "display_data"
    }
   ],
   "source": [
    "plt.bar(range(max), [i[1] for i in NEG_words[:max]], color=\"red\")\n",
    "plt.title(\"부정 뉴스의 단어 상위 %d개\" %max, fontsize=15)\n",
    "plt.xlabel(\"단어\", fontsize=12)\n",
    "plt.ylabel(\"TF-IDF의 합\", fontsize=12)\n",
    "plt.xticks(range(max), [i[0] for i in NEG_words[:max]], rotation=70)\n",
    "\n",
    "plt.show()"
   ]
  },
  {
   "cell_type": "code",
   "execution_count": 1,
   "metadata": {},
   "outputs": [
    {
     "name": "stdout",
     "output_type": "stream",
     "text": [
      "1701\n",
      "1702\n",
      "1703\n",
      "1704\n",
      "1705\n",
      "1706\n",
      "1707\n",
      "1708\n",
      "1709\n",
      "1710\n",
      "1711\n",
      "1712\n",
      "1801\n",
      "1802\n",
      "1803\n",
      "1804\n",
      "1805\n",
      "1806\n",
      "1807\n",
      "1808\n",
      "1809\n",
      "1810\n",
      "1811\n",
      "1812\n",
      "1901\n",
      "1902\n",
      "1903\n",
      "1904\n",
      "1905\n",
      "1906\n"
     ]
    },
    {
     "name": "stderr",
     "output_type": "stream",
     "text": [
      "C:\\Users\\82105\\AppData\\Local\\Temp\\ipykernel_1084\\3863142007.py:17: DtypeWarning: Columns (13,14) have mixed types. Specify dtype option on import or set low_memory=False.\n",
      "  data = pd.read_csv('./따릉이 데이터/서울특별시 공공자전거 이용정보(월별)_'+yy+'.'+mm+'.csv', encoding='cp949')\n"
     ]
    },
    {
     "name": "stdout",
     "output_type": "stream",
     "text": [
      "1907\n",
      "1908\n",
      "1909\n",
      "1910\n",
      "1911\n",
      "1912\n",
      "2001\n",
      "2002\n",
      "2003\n",
      "2004\n",
      "2005\n",
      "2006\n",
      "2007\n",
      "2008\n",
      "2009\n",
      "2010\n",
      "2011\n",
      "2012\n",
      "2101\n",
      "2102\n",
      "2103\n",
      "2104\n",
      "2105\n",
      "2106\n",
      "2107\n",
      "2108\n",
      "2109\n",
      "2110\n",
      "2111\n",
      "2112\n",
      "2017 ~ 2021 까지의 총 이용 건 수 : 89842092\n",
      "2017 ~ 2021 까지의 총 이용 시간 : 2454514888\n",
      "2017 ~ 2021 까지의 총 이용 거리 : 316425451333\n"
     ]
    }
   ],
   "source": [
    "import os\n",
    "import sys\n",
    "import urllib.request\n",
    "import datetime\n",
    "import time\n",
    "import json\n",
    "import pandas as pd\n",
    "\n",
    "#[CODE 4] 자전거 이용 내역 csv파일 불러오기\n",
    "def gettbCycleRentReportItem(yy):\n",
    "    yy = \"{0:0>2}\".format(str(yy))\n",
    "    totaltime = 0\n",
    "    totalrent = 0\n",
    "    totalmeter = 0\n",
    "    for month in range(1,13):\n",
    "        mm = \"{0:0>2}\".format(str(month))\n",
    "        data = pd.read_csv('./따릉이 데이터/서울특별시 공공자전거 이용정보(월별)_'+yy+'.'+mm+'.csv', encoding='cp949')\n",
    "        print(yy+mm)\n",
    "        for item in data.이용시간:\n",
    "            totaltime = totaltime + int(item)\n",
    "            \n",
    "        for item in data.이용건수:\n",
    "            totalrent = totalrent + int(item)\n",
    "            \n",
    "        for item in data.이동거리:\n",
    "            totalmeter = totalmeter + int(item)\n",
    "            \n",
    "    return (totaltime, totalmeter, totalrent)\n",
    "            \n",
    "    \n",
    "\n",
    "#[CODE 5] 2017~2021 자전거 이용 내역 데이터\n",
    "def gettbCycleRentReportService():\n",
    "    rent = 0\n",
    "    time = 0\n",
    "    meter = 0\n",
    "    \n",
    "    rentresult = []\n",
    "    timeresult = []\n",
    "    meterresult = []\n",
    "\n",
    "    for year in range(17,22):\n",
    "        rentcount = 0\n",
    "        timecount = 0\n",
    "        metercount = 0\n",
    "        \n",
    "        timecount, metercount, rentcount = gettbCycleRentReportItem(year)\n",
    "        \n",
    "        rent = rent + rentcount\n",
    "        meter = meter + metercount\n",
    "        time = time + timecount\n",
    "        \n",
    "        rentresult.append([year, rentcount])\n",
    "        timeresult.append([year, timecount])\n",
    "        meterresult.append([year, metercount])\n",
    "        \n",
    "    return (rent, time, meter, rentresult, timeresult, meterresult)\n",
    "\n",
    "#[CODE 4]\n",
    "def main():\n",
    "    rent = 0\n",
    "    time = 0\n",
    "    meter = 0\n",
    "    \n",
    "    rentresult = []\n",
    "    timeresult = []\n",
    "    meterresult = []\n",
    "\n",
    "    rent, time, meter, rentresult, timeresult, meterresult = gettbCycleRentReportService()\n",
    "\n",
    "    print(\"2017 ~ 2021 까지의 총 이용 건 수 : \"+str(rent))\n",
    "    print(\"2017 ~ 2021 까지의 총 이용 시간 : \"+str(time))\n",
    "    print(\"2017 ~ 2021 까지의 총 이용 거리 : \"+str(meter))\n",
    "\n",
    "    #이용 내역 csv 저장\n",
    "    columns = [\"년도\", \"이용 건 수\"]\n",
    "    result_df = pd.DataFrame(rentresult, columns = columns)\n",
    "    result_df.to_csv('./따릉이 데이터/년도별 따릉이 이용 건 수.csv', index=False, encoding='cp949')\n",
    "    \n",
    "    columns = [\"년도\", \"이용 시간\"]\n",
    "    result_df = pd.DataFrame(timeresult, columns = columns)\n",
    "    result_df.to_csv('./따릉이 데이터/년도별 따릉이 이용 시간.csv', index=False, encoding='cp949')\n",
    "    \n",
    "    columns = [\"년도\", \"이용 거리\"]\n",
    "    result_df = pd.DataFrame(meterresult, columns = columns)\n",
    "    result_df.to_csv('./따릉이 데이터/년도별 따릉이 이용 거리.csv', index=False, encoding='cp949')\n",
    "    \n",
    "if __name__ == '__main__':\n",
    "    main()\n"
   ]
  },
  {
   "cell_type": "code",
   "execution_count": 159,
   "metadata": {},
   "outputs": [],
   "source": [
    "for year in range(17,22):\n",
    "    yy = \"{0:0>2}\".format(str(year))\n",
    "    for month in range(1,13):\n",
    "            total = 0\n",
    "            mm = \"{0:0>2}\".format(str(month))\n",
    "            data = pd.read_csv('./따릉이 데이터/서울특별시 공공자전거 이용정보(월별)_'+yy+'.'+mm+'.csv', encoding='cp949')\n",
    "            data.rename(columns = {'이용거리(M)' : '이동거리'}, inplace = True)\n",
    "            data.to_csv('./따릉이 데이터/서울특별시 공공자전거 이용정보(월별)_'+yy+'.'+mm+'.csv', encoding='cp949')\n",
    "        "
   ]
  },
  {
   "cell_type": "code",
   "execution_count": 160,
   "metadata": {
    "scrolled": true
   },
   "outputs": [
    {
     "name": "stdout",
     "output_type": "stream",
     "text": [
      "17\n",
      "Index(['Unnamed: 0.6', 'Unnamed: 0.5', 'Unnamed: 0.4', 'Unnamed: 0.3',\n",
      "       'Unnamed: 0.2', 'Unnamed: 0.1', 'Unnamed: 0', '대여일자', '대여소번호', '대여소',\n",
      "       '대여구분코드', '성별', '연령대코드', '이용건수', '운동량', '탄소량', '이동거리', '이용시간'],\n",
      "      dtype='object')\n",
      "Index(['Unnamed: 0.6', 'Unnamed: 0.5', 'Unnamed: 0.4', 'Unnamed: 0.3',\n",
      "       'Unnamed: 0.2', 'Unnamed: 0.1', 'Unnamed: 0', '대여일자', '대여소번호', '대여소',\n",
      "       '대여구분코드', '성별', '연령대코드', '이용건수', '운동량', '탄소량', '이동거리', '이용시간'],\n",
      "      dtype='object')\n",
      "Index(['Unnamed: 0.7', 'Unnamed: 0.6', 'Unnamed: 0.5', 'Unnamed: 0.4',\n",
      "       'Unnamed: 0.3', 'Unnamed: 0.2', 'Unnamed: 0.1', 'Unnamed: 0', '대여일자',\n",
      "       '대여소번호', '대여소', '대여구분코드', '성별', '연령대코드', '이용건수', '운동량', '탄소량', '이동거리',\n",
      "       '이용시간'],\n",
      "      dtype='object')\n",
      "Index(['Unnamed: 0.6', 'Unnamed: 0.5', 'Unnamed: 0.4', 'Unnamed: 0.3',\n",
      "       'Unnamed: 0.2', 'Unnamed: 0.1', 'Unnamed: 0', '대여일자', '대여소번호', '대여소',\n",
      "       '대여구분코드', '성별', '연령대코드', '이용건수', '운동량', '탄소량', '이동거리', '이용시간'],\n",
      "      dtype='object')\n",
      "Index(['Unnamed: 0.6', 'Unnamed: 0.5', 'Unnamed: 0.4', 'Unnamed: 0.3',\n",
      "       'Unnamed: 0.2', 'Unnamed: 0.1', 'Unnamed: 0', '대여일자', '대여소번호', '대여소',\n",
      "       '대여구분코드', '성별', '연령대코드', '이용건수', '운동량', '탄소량', '이동거리', '이용시간'],\n",
      "      dtype='object')\n",
      "Index(['Unnamed: 0.6', 'Unnamed: 0.5', 'Unnamed: 0.4', 'Unnamed: 0.3',\n",
      "       'Unnamed: 0.2', 'Unnamed: 0.1', 'Unnamed: 0', '대여일자', '대여소번호', '대여소',\n",
      "       '대여구분코드', '성별', '연령대코드', '이용건수', '운동량', '탄소량', '이동거리', '이용시간'],\n",
      "      dtype='object')\n",
      "Index(['Unnamed: 0.6', 'Unnamed: 0.5', 'Unnamed: 0.4', 'Unnamed: 0.3',\n",
      "       'Unnamed: 0.2', 'Unnamed: 0.1', 'Unnamed: 0', '대여일자', '대여소번호', '대여소',\n",
      "       '대여구분코드', '성별', '연령대코드', '이용건수', '운동량', '탄소량', '이동거리', '이용시간'],\n",
      "      dtype='object')\n",
      "Index(['Unnamed: 0.6', 'Unnamed: 0.5', 'Unnamed: 0.4', 'Unnamed: 0.3',\n",
      "       'Unnamed: 0.2', 'Unnamed: 0.1', 'Unnamed: 0', '대여일자', '대여소번호', '대여소',\n",
      "       '대여구분코드', '성별', '연령대코드', '이용건수', '운동량', '탄소량', '이동거리', '이용시간'],\n",
      "      dtype='object')\n",
      "Index(['Unnamed: 0.6', 'Unnamed: 0.5', 'Unnamed: 0.4', 'Unnamed: 0.3',\n",
      "       'Unnamed: 0.2', 'Unnamed: 0.1', 'Unnamed: 0', '대여일자', '대여소번호', '대여소',\n",
      "       '대여구분코드', '성별', '연령대코드', '이용건수', '운동량', '탄소량', '이동거리', '이용시간'],\n",
      "      dtype='object')\n",
      "Index(['Unnamed: 0.6', 'Unnamed: 0.5', 'Unnamed: 0.4', 'Unnamed: 0.3',\n",
      "       'Unnamed: 0.2', 'Unnamed: 0.1', 'Unnamed: 0', '대여일자', '대여소번호', '대여소',\n",
      "       '대여구분코드', '성별', '연령대코드', '이용건수', '운동량', '탄소량', '이동거리', '이용시간'],\n",
      "      dtype='object')\n",
      "Index(['Unnamed: 0.6', 'Unnamed: 0.5', 'Unnamed: 0.4', 'Unnamed: 0.3',\n",
      "       'Unnamed: 0.2', 'Unnamed: 0.1', 'Unnamed: 0', '대여일자', '대여소번호', '대여소',\n",
      "       '대여구분코드', '성별', '연령대코드', '이용건수', '운동량', '탄소량', '이동거리', '이용시간'],\n",
      "      dtype='object')\n",
      "Index(['Unnamed: 0.3', 'Unnamed: 0.2', 'Unnamed: 0.1', 'Unnamed: 0', '대여일자',\n",
      "       '대여소번호', '대여소', '대여구분코드', '성별', '연령대코드', '이용건수', '운동량', '탄소량', '이동거리',\n",
      "       '이용시간'],\n",
      "      dtype='object')\n",
      "18\n",
      "Index(['Unnamed: 0.6', 'Unnamed: 0.5', 'Unnamed: 0.4', 'Unnamed: 0.3',\n",
      "       'Unnamed: 0.2', 'Unnamed: 0.1', 'Unnamed: 0', '대여일자', '대여소번호', '대여소',\n",
      "       '대여구분코드', '성별', '연령대코드', '이용건수', '운동량', '탄소량', '이동거리', '이용시간'],\n",
      "      dtype='object')\n",
      "Index(['Unnamed: 0.6', 'Unnamed: 0.5', 'Unnamed: 0.4', 'Unnamed: 0.3',\n",
      "       'Unnamed: 0.2', 'Unnamed: 0.1', 'Unnamed: 0', '대여일자', '대여소번호', '대여소',\n",
      "       '대여구분코드', '성별', '연령대코드', '이용건수', '운동량', '탄소량', '이동거리', '이용시간'],\n",
      "      dtype='object')\n",
      "Index(['Unnamed: 0.6', 'Unnamed: 0.5', 'Unnamed: 0.4', 'Unnamed: 0.3',\n",
      "       'Unnamed: 0.2', 'Unnamed: 0.1', 'Unnamed: 0', '대여일자', '대여소번호', '대여소',\n",
      "       '대여구분코드', '성별', '연령대코드', '이용건수', '운동량', '탄소량', '이동거리', '이용시간'],\n",
      "      dtype='object')\n",
      "Index(['Unnamed: 0.6', 'Unnamed: 0.5', 'Unnamed: 0.4', 'Unnamed: 0.3',\n",
      "       'Unnamed: 0.2', 'Unnamed: 0.1', 'Unnamed: 0', '대여일자', '대여소번호', '대여소',\n",
      "       '대여구분코드', '성별', '연령대코드', '이용건수', '운동량', '탄소량', '이동거리', '이용시간'],\n",
      "      dtype='object')\n",
      "Index(['Unnamed: 0.6', 'Unnamed: 0.5', 'Unnamed: 0.4', 'Unnamed: 0.3',\n",
      "       'Unnamed: 0.2', 'Unnamed: 0.1', 'Unnamed: 0', '대여일자', '대여소번호', '대여소',\n",
      "       '대여구분코드', '성별', '연령대코드', '이용건수', '운동량', '탄소량', '이동거리', '이용시간'],\n",
      "      dtype='object')\n",
      "Index(['Unnamed: 0.6', 'Unnamed: 0.5', 'Unnamed: 0.4', 'Unnamed: 0.3',\n",
      "       'Unnamed: 0.2', 'Unnamed: 0.1', 'Unnamed: 0', '대여일자', '대여소번호', '대여소',\n",
      "       '대여구분코드', '성별', '연령대코드', '이용건수', '운동량', '탄소량', '이동거리', '이용시간'],\n",
      "      dtype='object')\n",
      "Index(['Unnamed: 0.5', 'Unnamed: 0.4', 'Unnamed: 0.3', 'Unnamed: 0.2',\n",
      "       'Unnamed: 0.1', 'Unnamed: 0', '대여일자', '대여소번호', '대여소', '대여구분코드', '성별',\n",
      "       '연령대코드', '이용건수', '운동량', '탄소량', '이동거리', '이용시간'],\n",
      "      dtype='object')\n",
      "Index(['Unnamed: 0.5', 'Unnamed: 0.4', 'Unnamed: 0.3', 'Unnamed: 0.2',\n",
      "       'Unnamed: 0.1', 'Unnamed: 0', '대여일자', '대여소번호', '대여소', '대여구분코드', '성별',\n",
      "       '연령대코드', '이용건수', '운동량', '탄소량', '이동거리', '이용시간'],\n",
      "      dtype='object')\n",
      "Index(['Unnamed: 0.5', 'Unnamed: 0.4', 'Unnamed: 0.3', 'Unnamed: 0.2',\n",
      "       'Unnamed: 0.1', 'Unnamed: 0', '대여일자', '대여소번호', '대여소', '대여구분코드', '성별',\n",
      "       '연령대코드', '이용건수', '운동량', '탄소량', '이동거리', '이용시간'],\n",
      "      dtype='object')\n",
      "Index(['Unnamed: 0.5', 'Unnamed: 0.4', 'Unnamed: 0.3', 'Unnamed: 0.2',\n",
      "       'Unnamed: 0.1', 'Unnamed: 0', '대여일자', '대여소번호', '대여소', '대여구분코드', '성별',\n",
      "       '연령대코드', '이용건수', '운동량', '탄소량', '이동거리', '이용시간'],\n",
      "      dtype='object')\n",
      "Index(['Unnamed: 0.5', 'Unnamed: 0.4', 'Unnamed: 0.3', 'Unnamed: 0.2',\n",
      "       'Unnamed: 0.1', 'Unnamed: 0', '대여일자', '대여소번호', '대여소', '대여구분코드', '성별',\n",
      "       '연령대코드', '이용건수', '운동량', '탄소량', '이동거리', '이용시간'],\n",
      "      dtype='object')\n",
      "Index(['Unnamed: 0.2', 'Unnamed: 0.1', 'Unnamed: 0', '대여일자', '대여소번호', '대여소',\n",
      "       '대여구분코드', '성별', '연령대코드', '이용건수', '운동량', '탄소량', '이동거리', '이용시간'],\n",
      "      dtype='object')\n",
      "19\n",
      "Index(['Unnamed: 0.6', 'Unnamed: 0.5', 'Unnamed: 0.4', 'Unnamed: 0.3',\n",
      "       'Unnamed: 0.2', 'Unnamed: 0.1', 'Unnamed: 0', '대여일자', '대여소번호', '대여소',\n",
      "       '대여구분코드', '성별', '연령대코드', '이용건수', '운동량', '탄소량', '이동거리', '이용시간'],\n",
      "      dtype='object')\n",
      "Index(['Unnamed: 0.6', 'Unnamed: 0.5', 'Unnamed: 0.4', 'Unnamed: 0.3',\n",
      "       'Unnamed: 0.2', 'Unnamed: 0.1', 'Unnamed: 0', '대여일자', '대여소번호', '대여소',\n",
      "       '대여구분코드', '성별', '연령대코드', '이용건수', '운동량', '탄소량', '이동거리', '이용시간'],\n",
      "      dtype='object')\n",
      "Index(['Unnamed: 0.6', 'Unnamed: 0.5', 'Unnamed: 0.4', 'Unnamed: 0.3',\n",
      "       'Unnamed: 0.2', 'Unnamed: 0.1', 'Unnamed: 0', '대여일자', '대여소번호', '대여소',\n",
      "       '대여구분코드', '성별', '연령대코드', '이용건수', '운동량', '탄소량', '이동거리', '이용시간'],\n",
      "      dtype='object')\n",
      "Index(['Unnamed: 0.6', 'Unnamed: 0.5', 'Unnamed: 0.4', 'Unnamed: 0.3',\n",
      "       'Unnamed: 0.2', 'Unnamed: 0.1', 'Unnamed: 0', '대여일자', '대여소번호', '대여소',\n",
      "       '대여구분코드', '성별', '연령대코드', '이용건수', '운동량', '탄소량', '이동거리', '이용시간'],\n",
      "      dtype='object')\n",
      "Index(['Unnamed: 0.6', 'Unnamed: 0.5', 'Unnamed: 0.4', 'Unnamed: 0.3',\n",
      "       'Unnamed: 0.2', 'Unnamed: 0.1', 'Unnamed: 0', '대여일자', '대여소번호', '대여소',\n",
      "       '대여구분코드', '성별', '연령대코드', '이용건수', '운동량', '탄소량', '이동거리', '이용시간'],\n",
      "      dtype='object')\n",
      "Index(['Unnamed: 0.6', 'Unnamed: 0.5', 'Unnamed: 0.4', 'Unnamed: 0.3',\n",
      "       'Unnamed: 0.2', 'Unnamed: 0.1', 'Unnamed: 0', '대여일자', '대여소번호', '대여소',\n",
      "       '대여구분코드', '성별', '연령대코드', '이용건수', '운동량', '탄소량', '이동거리', '이용시간'],\n",
      "      dtype='object')\n"
     ]
    },
    {
     "name": "stderr",
     "output_type": "stream",
     "text": [
      "C:\\Users\\82105\\AppData\\Local\\Temp\\ipykernel_31612\\1772318658.py:7: DtypeWarning: Columns (13,14) have mixed types. Specify dtype option on import or set low_memory=False.\n",
      "  data = pd.read_csv('./13장_data/서울특별시 공공자전거 이용정보(월별)_'+yy+'.'+mm+'.csv', encoding='cp949')\n"
     ]
    },
    {
     "name": "stdout",
     "output_type": "stream",
     "text": [
      "Index(['Unnamed: 0.5', 'Unnamed: 0.4', 'Unnamed: 0.3', 'Unnamed: 0.2',\n",
      "       'Unnamed: 0.1', 'Unnamed: 0', '대여일자', '대여소번호', '대여소', '대여구분코드', '성별',\n",
      "       '연령대코드', '이용건수', '운동량', '탄소량', '이동거리', '이용시간'],\n",
      "      dtype='object')\n",
      "Index(['Unnamed: 0.5', 'Unnamed: 0.4', 'Unnamed: 0.3', 'Unnamed: 0.2',\n",
      "       'Unnamed: 0.1', 'Unnamed: 0', '대여일자', '대여소번호', '대여소', '대여구분코드', '성별',\n",
      "       '연령대코드', '이용건수', '운동량', '탄소량', '이동거리', '이용시간'],\n",
      "      dtype='object')\n",
      "Index(['Unnamed: 0.5', 'Unnamed: 0.4', 'Unnamed: 0.3', 'Unnamed: 0.2',\n",
      "       'Unnamed: 0.1', 'Unnamed: 0', '대여일자', '대여소번호', '대여소', '대여구분코드', '성별',\n",
      "       '연령대코드', '이용건수', '운동량', '탄소량', '이동거리', '이용시간'],\n",
      "      dtype='object')\n",
      "Index(['Unnamed: 0.5', 'Unnamed: 0.4', 'Unnamed: 0.3', 'Unnamed: 0.2',\n",
      "       'Unnamed: 0.1', 'Unnamed: 0', '대여일자', '대여소번호', '대여소', '대여구분코드', '성별',\n",
      "       '연령대코드', '이용건수', '운동량', '탄소량', '이동거리', '이용시간'],\n",
      "      dtype='object')\n",
      "Index(['Unnamed: 0.5', 'Unnamed: 0.4', 'Unnamed: 0.3', 'Unnamed: 0.2',\n",
      "       'Unnamed: 0.1', 'Unnamed: 0', '대여일자', '대여소번호', '대여소', '대여구분코드', '성별',\n",
      "       '연령대코드', '이용건수', '운동량', '탄소량', '이동거리', '이용시간'],\n",
      "      dtype='object')\n",
      "Index(['Unnamed: 0.5', 'Unnamed: 0.4', 'Unnamed: 0.3', 'Unnamed: 0.2',\n",
      "       'Unnamed: 0.1', 'Unnamed: 0', '대여일자', '대여소번호', '대여소명', '대여구분코드', '성별',\n",
      "       '연령대코드', '이용건수', '운동량', '탄소량', '이동거리', '이용시간'],\n",
      "      dtype='object')\n",
      "20\n",
      "Index(['Unnamed: 0.7', 'Unnamed: 0.6', 'Unnamed: 0.5', 'Unnamed: 0.4',\n",
      "       'Unnamed: 0.3', 'Unnamed: 0.2', 'Unnamed: 0.1', 'Unnamed: 0', '대여일자',\n",
      "       '대여소번호', '대여소명', '대여구분코드', '성별', '연령대코드', '이용건수', '운동량', '탄소량', '이동거리',\n",
      "       '이용시간'],\n",
      "      dtype='object')\n",
      "Index(['Unnamed: 0.9', 'Unnamed: 0.8', 'Unnamed: 0.7', 'Unnamed: 0.6',\n",
      "       'Unnamed: 0.5', 'Unnamed: 0.4', 'Unnamed: 0.3', 'Unnamed: 0.2',\n",
      "       'Unnamed: 0.1', 'Unnamed: 0', '대여일자', '대여소번호', '대여소명', '대여구분코드', '성별',\n",
      "       '연령대코드', '이용건수', '운동량', '탄소량', '이동거리', '이용시간'],\n",
      "      dtype='object')\n",
      "Index(['Unnamed: 0.7', 'Unnamed: 0.6', 'Unnamed: 0.5', 'Unnamed: 0.4',\n",
      "       'Unnamed: 0.3', 'Unnamed: 0.2', 'Unnamed: 0.1', 'Unnamed: 0', '대여일자',\n",
      "       '대여소번호', '대여소명', '대여구분코드', '성별', '연령대코드', '이용건수', '운동량', '탄소량', '이동거리',\n",
      "       '이용시간'],\n",
      "      dtype='object')\n",
      "Index(['Unnamed: 0.7', 'Unnamed: 0.6', 'Unnamed: 0.5', 'Unnamed: 0.4',\n",
      "       'Unnamed: 0.3', 'Unnamed: 0.2', 'Unnamed: 0.1', 'Unnamed: 0', '대여일자',\n",
      "       '대여소번호', '대여소명', '대여구분코드', '성별', '연령대코드', '이용건수', '운동량', '탄소량', '이동거리',\n",
      "       '이용시간'],\n",
      "      dtype='object')\n",
      "Index(['Unnamed: 0.7', 'Unnamed: 0.6', 'Unnamed: 0.5', 'Unnamed: 0.4',\n",
      "       'Unnamed: 0.3', 'Unnamed: 0.2', 'Unnamed: 0.1', 'Unnamed: 0', '대여일자',\n",
      "       '대여소번호', '대여소명', '대여구분코드', '성별', '연령대코드', '이용건수', '운동량', '탄소량', '이동거리',\n",
      "       '이용시간'],\n",
      "      dtype='object')\n",
      "Index(['Unnamed: 0.4', 'Unnamed: 0.3', 'Unnamed: 0.2', 'Unnamed: 0.1',\n",
      "       'Unnamed: 0', '대여일자', '대여소번호', '대여소명', '대여구분코드', '성별', '연령대코드', '이용건수',\n",
      "       '운동량', '탄소량', '이동거리', '이용시간'],\n",
      "      dtype='object')\n",
      "Index(['Unnamed: 0.4', 'Unnamed: 0.3', 'Unnamed: 0.2', 'Unnamed: 0.1',\n",
      "       'Unnamed: 0', '대여일자', '대여소번호', '대여소명', '대여구분코드', '성별', '연령대코드', '이용건수',\n",
      "       '운동량', '탄소량', '이동거리', '이용시간'],\n",
      "      dtype='object')\n",
      "Index(['Unnamed: 0.5', 'Unnamed: 0.4', 'Unnamed: 0.3', 'Unnamed: 0.2',\n",
      "       'Unnamed: 0.1', 'Unnamed: 0', '대여일자', '대여소번호', '대여소명', '대여구분코드', '성별',\n",
      "       '연령대코드', '이용건수', '운동량', '탄소량', '이동거리', '이용시간'],\n",
      "      dtype='object')\n",
      "Index(['Unnamed: 0.5', 'Unnamed: 0.4', 'Unnamed: 0.3', 'Unnamed: 0.2',\n",
      "       'Unnamed: 0.1', 'Unnamed: 0', '대여일자', '대여소번호', '대여소명', '대여구분코드', '성별',\n",
      "       '연령대코드', '이용건수', '운동량', '탄소량', '이동거리', '이용시간'],\n",
      "      dtype='object')\n",
      "Index(['Unnamed: 0.5', 'Unnamed: 0.4', 'Unnamed: 0.3', 'Unnamed: 0.2',\n",
      "       'Unnamed: 0.1', 'Unnamed: 0', '대여일자', '대여소번호', '대여소명', '대여구분코드', '성별',\n",
      "       '연령대코드', '이용건수', '운동량', '탄소량', '이동거리', '이용시간'],\n",
      "      dtype='object')\n",
      "Index(['Unnamed: 0.5', 'Unnamed: 0.4', 'Unnamed: 0.3', 'Unnamed: 0.2',\n",
      "       'Unnamed: 0.1', 'Unnamed: 0', '대여일자', '대여소번호', '대여소명', '대여구분코드', '성별',\n",
      "       '연령대코드', '이용건수', '운동량', '탄소량', '이동거리', '이용시간'],\n",
      "      dtype='object')\n",
      "Index(['Unnamed: 0.3', 'Unnamed: 0.2', 'Unnamed: 0.1', 'Unnamed: 0', '대여일자',\n",
      "       '대여소번호', '대여소명', '대여구분코드', '성별', '연령대코드', '이용건수', '운동량', '탄소량', '이동거리',\n",
      "       '이용시간'],\n",
      "      dtype='object')\n",
      "21\n",
      "Index(['Unnamed: 0.4', 'Unnamed: 0.3', 'Unnamed: 0.2', 'Unnamed: 0.1',\n",
      "       'Unnamed: 0', '대여일자', '대여소번호', '대여소명', '대여구분코드', '성별', '연령대코드', '이용건수',\n",
      "       '운동량', '탄소량', '이동거리', '이용시간'],\n",
      "      dtype='object')\n",
      "Index(['Unnamed: 0.4', 'Unnamed: 0.3', 'Unnamed: 0.2', 'Unnamed: 0.1',\n",
      "       'Unnamed: 0', '대여일자', '대여소번호', '대여소명', '대여구분코드', '성별', '연령대코드', '이용건수',\n",
      "       '운동량', '탄소량', '이동거리', '이용시간'],\n",
      "      dtype='object')\n",
      "Index(['Unnamed: 0.4', 'Unnamed: 0.3', 'Unnamed: 0.2', 'Unnamed: 0.1',\n",
      "       'Unnamed: 0', '대여일자', '대여소번호', '대여소명', '대여구분코드', '성별', '연령대코드', '이용건수',\n",
      "       '운동량', '탄소량', '이동거리', '이용시간'],\n",
      "      dtype='object')\n",
      "Index(['Unnamed: 0.4', 'Unnamed: 0.3', 'Unnamed: 0.2', 'Unnamed: 0.1',\n",
      "       'Unnamed: 0', '대여일자', '대여소번호', '대여소명', '대여구분코드', '성별', '연령대코드', '이용건수',\n",
      "       '운동량', '탄소량', '이동거리', '이용시간'],\n",
      "      dtype='object')\n",
      "Index(['Unnamed: 0.4', 'Unnamed: 0.3', 'Unnamed: 0.2', 'Unnamed: 0.1',\n",
      "       'Unnamed: 0', '대여일자', '대여소번호', '대여소명', '대여구분코드', '성별', '연령대코드', '이용건수',\n",
      "       '운동량', '탄소량', '이동거리', '이용시간'],\n",
      "      dtype='object')\n",
      "Index(['Unnamed: 0.4', 'Unnamed: 0.3', 'Unnamed: 0.2', 'Unnamed: 0.1',\n",
      "       'Unnamed: 0', '대여일자', '대여소번호', '대여소명', '대여구분코드', '성별', '연령대코드', '이용건수',\n",
      "       '운동량', '탄소량', '이동거리', '이용시간'],\n",
      "      dtype='object')\n",
      "Index(['Unnamed: 0.4', 'Unnamed: 0.3', 'Unnamed: 0.2', 'Unnamed: 0.1',\n",
      "       'Unnamed: 0', '대여일자', '대여소번호', '대여소명', '대여구분코드', '성별', '연령대코드', '이용건수',\n",
      "       '운동량', '탄소량', '이동거리', '이용시간'],\n",
      "      dtype='object')\n",
      "Index(['Unnamed: 0.4', 'Unnamed: 0.3', 'Unnamed: 0.2', 'Unnamed: 0.1',\n",
      "       'Unnamed: 0', '대여일자', '대여소번호', '대여소명', '대여구분코드', '성별', '연령대코드', '이용건수',\n",
      "       '운동량', '탄소량', '이동거리', '이용시간'],\n",
      "      dtype='object')\n",
      "Index(['Unnamed: 0.6', 'Unnamed: 0.5', 'Unnamed: 0.4', 'Unnamed: 0.3',\n",
      "       'Unnamed: 0.2', 'Unnamed: 0.1', 'Unnamed: 0', '대여일자', '대여소번호', '대여소명',\n",
      "       '대여구분코드', '성별', '연령대코드', '이용건수', '운동량', '탄소량', '이동거리', '이용시간'],\n",
      "      dtype='object')\n",
      "Index(['Unnamed: 0.4', 'Unnamed: 0.3', 'Unnamed: 0.2', 'Unnamed: 0.1',\n",
      "       'Unnamed: 0', '대여일자', '대여소번호', '대여소명', '대여구분코드', '성별', '연령대코드', '이용건수',\n",
      "       '운동량', '탄소량', '이동거리', '이용시간'],\n",
      "      dtype='object')\n",
      "Index(['Unnamed: 0.4', 'Unnamed: 0.3', 'Unnamed: 0.2', 'Unnamed: 0.1',\n",
      "       'Unnamed: 0', '대여일자', '대여소번호', '대여소명', '대여구분코드', '성별', '연령대코드', '이용건수',\n",
      "       '운동량', '탄소량', '이동거리', '이용시간'],\n",
      "      dtype='object')\n",
      "Index(['Unnamed: 0.2', 'Unnamed: 0.1', 'Unnamed: 0', '대여일자', '대여소번호', '대여소명',\n",
      "       '대여구분코드', '성별', '연령대코드', '이용건수', '운동량', '탄소량', '이동거리', '이용시간'],\n",
      "      dtype='object')\n"
     ]
    }
   ],
   "source": [
    "for year in range(17,22):\n",
    "    yy = \"{0:0>2}\".format(str(year))\n",
    "    print(yy)\n",
    "    for month in range(1,13):\n",
    "            total = 0\n",
    "            mm = \"{0:0>2}\".format(str(month))\n",
    "            data = pd.read_csv('./따릉이 데이터/서울특별시 공공자전거 이용정보(월별)_'+yy+'.'+mm+'.csv', encoding='cp949')\n",
    "            print(data.columns)\n",
    "        "
   ]
  },
  {
   "cell_type": "code",
   "execution_count": 99,
   "metadata": {},
   "outputs": [],
   "source": [
    "data.to_csv('./따릉이 데이터/서울특별시 공공자전거 이용정보(월별)_17.03.csv', encoding='cp949')"
   ]
  },
  {
   "cell_type": "code",
   "execution_count": null,
   "metadata": {},
   "outputs": [],
   "source": [
    "data.rename(columns = {'\\'대여일자\\'' : '대여일자', '\\'대여소번호\\'' : '대여소번호', '\\'대여소\\'' : '대여소', '\\'대여구분코드\\'' : '대여구분코드', '\\'성별\\'' : '성별', \n",
    "                      '\\'연령대코드\\'' : '연령대코드', '\\'이용건수\\'' : '이용건수', '\\'운동량\\'' : '운동량', '\\'탄소량\\'' : '탄소량', '\\'이동거리(M)\\'' : '이동거리', '\\'이용시간(분)\\'' : '이용시간'}, inplace = True)\n",
    "data.to_csv('./따릉이 데이터/서울특별시 공공자전거 이용정보(월별)_17.03.csv', encoding='cp949')"
   ]
  },
  {
   "cell_type": "code",
   "execution_count": 9,
   "metadata": {
    "scrolled": true
   },
   "outputs": [
    {
     "data": {
      "image/png": "[encoded data removed]",
      "text/plain": [
       "<Figure size 432x288 with 1 Axes>"
      ]
     },
     "metadata": {
      "needs_background": "light"
     },
     "output_type": "display_data"
    }
   ],
   "source": [
    "import pandas as pd\n",
    "import matplotlib.pyplot as plt\n",
    "\n",
    "result_df = pd.read_csv('./따릉이 데이터/년도별 따릉이 이용 건 수.csv', encoding='cp949')\n",
    "\n",
    "x = result_df['년도']\n",
    "y = result_df['이용 건 수']\n",
    "\n",
    "plt.plot(x,y)\n",
    "plt.ylim([0,50000000])\n",
    "plt.show()"
   ]
  },
  {
   "cell_type": "code",
   "execution_count": 7,
   "metadata": {},
   "outputs": [
    {
     "data": {
      "image/png": "[encoded data removed]",
      "text/plain": [
       "<Figure size 432x288 with 1 Axes>"
      ]
     },
     "metadata": {
      "needs_background": "light"
     },
     "output_type": "display_data"
    }
   ],
   "source": [
    "result_df = pd.read_csv('./따릉이 데이터/년도별 따릉이 이용 시간.csv', encoding='cp949')\n",
    "\n",
    "x = result_df['년도']\n",
    "y = result_df['이용 시간']\n",
    "\n",
    "plt.plot(x,y)\n",
    "plt.ylim([0,1000000000])\n",
    "plt.show()"
   ]
  },
  {
   "cell_type": "code",
   "execution_count": 8,
   "metadata": {},
   "outputs": [
    {
     "data": {
      "image/png": "[encoded data removed]",
      "text/plain": [
       "<Figure size 432x288 with 1 Axes>"
      ]
     },
     "metadata": {
      "needs_background": "light"
     },
     "output_type": "display_data"
    }
   ],
   "source": [
    "result_df = pd.read_csv('./따릉이 데이터/년도별 따릉이 이용 거리.csv', encoding='cp949')\n",
    "\n",
    "x = result_df['년도']\n",
    "y = result_df['이용 거리']\n",
    "\n",
    "plt.plot(x,y)\n",
    "plt.ylim([0,100000000000])\n",
    "plt.show()"
   ]
  },
  {
   "cell_type": "code",
   "execution_count": null,
   "metadata": {},
   "outputs": [],
   "source": []
  }
 ],
 "metadata": {
  "kernelspec": {
   "display_name": "Python 3 (ipykernel)",
   "language": "python",
   "name": "python3"
  },
  "language_info": {
   "codemirror_mode": {
    "name": "ipython",
    "version": 3
   },
   "file_extension": ".py",
   "mimetype": "text/x-python",
   "name": "python",
   "nbconvert_exporter": "python",
   "pygments_lexer": "ipython3",
   "version": "3.9.12"
  }
 },
 "nbformat": 4,
 "nbformat_minor": 2
}
